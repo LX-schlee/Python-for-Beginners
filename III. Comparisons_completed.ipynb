{
 "cells": [
  {
   "cell_type": "markdown",
   "id": "6485daad",
   "metadata": {},
   "source": [
    "## III. Comparisons"
   ]
  },
  {
   "cell_type": "markdown",
   "id": "7b2e1af7",
   "metadata": {},
   "source": [
    "### Comparisons are used to compare two values, numbers, strings and other data types and return a boolean value"
   ]
  },
  {
   "cell_type": "markdown",
   "id": "32d9cae6",
   "metadata": {},
   "source": [
    "- Equal to (==)\n",
    "- Not equal to (!=)\n",
    "- Less than (<)\n",
    "- Greater than (>)\n",
    "- Less than or equal to (<=)\n",
    "- Greater than or equal to (>=)\n",
    "#### Important(!) \"==\" is a comparison operator, \"=\" is an assignment operator (used to assign a value to a variable)"
   ]
  },
  {
   "cell_type": "markdown",
   "id": "7781c44b",
   "metadata": {},
   "source": [
    "#### Equal to"
   ]
  },
  {
   "cell_type": "code",
   "execution_count": null,
   "id": "8ef87a94",
   "metadata": {},
   "outputs": [],
   "source": [
    "# Example 1\n",
    "print(\"Country\" == \"Country\")"
   ]
  },
  {
   "cell_type": "code",
   "execution_count": null,
   "id": "cbbe32db",
   "metadata": {},
   "outputs": [],
   "source": [
    "# Example 2\n",
    "print(\"Frankfurt\" == \"Frankfurt\" and 10 == 10)"
   ]
  },
  {
   "cell_type": "code",
   "execution_count": null,
   "id": "897ce666",
   "metadata": {},
   "outputs": [],
   "source": [
    "# Example 3\n",
    "x = [2,4,6,8]\n",
    "y = [2,4,6,8]"
   ]
  },
  {
   "cell_type": "code",
   "execution_count": null,
   "id": "c605dca8",
   "metadata": {},
   "outputs": [],
   "source": [
    "print(x==y)"
   ]
  },
  {
   "cell_type": "markdown",
   "id": "220fed07",
   "metadata": {},
   "source": [
    "#### Not equal to"
   ]
  },
  {
   "cell_type": "code",
   "execution_count": null,
   "id": "7b07a94a",
   "metadata": {},
   "outputs": [],
   "source": [
    "# Example\n",
    "print(5 != 10)"
   ]
  },
  {
   "cell_type": "markdown",
   "id": "b2ea2120",
   "metadata": {},
   "source": [
    "#### Less than"
   ]
  },
  {
   "cell_type": "code",
   "execution_count": null,
   "id": "4f5bc6c0",
   "metadata": {},
   "outputs": [],
   "source": [
    "# Example 1\n",
    "a = 200\n",
    "b = 100\n",
    "print (a < b)"
   ]
  },
  {
   "cell_type": "code",
   "execution_count": null,
   "id": "65c4c949",
   "metadata": {},
   "outputs": [],
   "source": [
    "# Example 2\n",
    "print(2 < 4 and 10 < 20)"
   ]
  },
  {
   "cell_type": "markdown",
   "id": "8027b277",
   "metadata": {},
   "source": [
    "#### Greater than"
   ]
  },
  {
   "cell_type": "code",
   "execution_count": null,
   "id": "0364565b",
   "metadata": {},
   "outputs": [],
   "source": [
    "# Example 1\n",
    "print (1000 > 500)"
   ]
  },
  {
   "cell_type": "code",
   "execution_count": null,
   "id": "de9b5dc0",
   "metadata": {},
   "outputs": [],
   "source": [
    "# Example 2\n",
    "print (52 > 40 or 20 > 1000)"
   ]
  },
  {
   "cell_type": "markdown",
   "id": "8aeb9d87",
   "metadata": {},
   "source": [
    "#### Less than or equal to"
   ]
  },
  {
   "cell_type": "code",
   "execution_count": null,
   "id": "18f240c3",
   "metadata": {},
   "outputs": [],
   "source": [
    "# Example\n",
    "x = 50\n",
    "print(15 <= x)"
   ]
  },
  {
   "cell_type": "markdown",
   "id": "42e84d42",
   "metadata": {},
   "source": [
    "#### Greater than or equal to"
   ]
  },
  {
   "cell_type": "code",
   "execution_count": null,
   "id": "af5e6783",
   "metadata": {},
   "outputs": [],
   "source": [
    "# Example\n",
    "i = 21\n",
    "print (10*10 >= i)"
   ]
  }
 ],
 "metadata": {
  "kernelspec": {
   "display_name": "Python 3 (ipykernel)",
   "language": "python",
   "name": "python3"
  },
  "language_info": {
   "codemirror_mode": {
    "name": "ipython",
    "version": 3
   },
   "file_extension": ".py",
   "mimetype": "text/x-python",
   "name": "python",
   "nbconvert_exporter": "python",
   "pygments_lexer": "ipython3",
   "version": "3.10.2"
  }
 },
 "nbformat": 4,
 "nbformat_minor": 5
}
