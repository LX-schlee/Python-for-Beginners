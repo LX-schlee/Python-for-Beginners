{
 "cells": [
  {
   "cell_type": "markdown",
   "id": "9ddbe429",
   "metadata": {},
   "source": [
    "## IV List Comprehension"
   ]
  },
  {
   "cell_type": "markdown",
   "id": "b98a741a",
   "metadata": {},
   "source": [
    "List comprehension can be used to create a list by processing each element of an existing sequence (e.g. lists, tuples, strings). The expression is applied to each element of a sequence and results are stored in a new list."
   ]
  },
  {
   "cell_type": "markdown",
   "id": "a9110b4d",
   "metadata": {},
   "source": [
    "#### Example 1 - list with trippled numbers"
   ]
  },
  {
   "cell_type": "code",
   "execution_count": null,
   "id": "0e184281",
   "metadata": {},
   "outputs": [],
   "source": [
    "# define s list of numbers\n",
    "\n",
    "# triple each number in a list\n",
    "\n",
    "# print the trippled numbers"
   ]
  },
  {
   "cell_type": "code",
   "execution_count": null,
   "id": "b4b770d4",
   "metadata": {},
   "outputs": [],
   "source": []
  },
  {
   "cell_type": "markdown",
   "id": "989d06b6",
   "metadata": {},
   "source": [
    "#### Example 2 - give back a list with animals which starts with \"d\""
   ]
  },
  {
   "cell_type": "code",
   "execution_count": null,
   "id": "97a7d14e",
   "metadata": {},
   "outputs": [],
   "source": [
    "# create a list of animals\n",
    "\n",
    "# loop through the list and check which animals start with a \"d\"\n",
    "\n",
    "# print out the new list"
   ]
  },
  {
   "cell_type": "code",
   "execution_count": null,
   "id": "2664ae78",
   "metadata": {},
   "outputs": [],
   "source": []
  },
  {
   "cell_type": "markdown",
   "id": "ca592d7a",
   "metadata": {},
   "source": [
    "#### Example 3 - count the letters"
   ]
  },
  {
   "cell_type": "code",
   "execution_count": null,
   "id": "706b0f50",
   "metadata": {},
   "outputs": [],
   "source": [
    "# create a list of words\n",
    "\n",
    "# loop through list and count the words\n",
    "\n",
    "# print the list"
   ]
  },
  {
   "cell_type": "code",
   "execution_count": null,
   "id": "dd1951c4",
   "metadata": {},
   "outputs": [],
   "source": []
  },
  {
   "cell_type": "markdown",
   "id": "5e86a19c",
   "metadata": {},
   "source": [
    "#### Example 4 - return positive numbers"
   ]
  },
  {
   "cell_type": "code",
   "execution_count": null,
   "id": "a87354ae",
   "metadata": {},
   "outputs": [],
   "source": [
    "# create a list of random numbers\n",
    "# loop through the given list and filter out the positive ones\n",
    "\n",
    "# print the new list\n"
   ]
  },
  {
   "cell_type": "code",
   "execution_count": null,
   "id": "21703302",
   "metadata": {},
   "outputs": [],
   "source": []
  },
  {
   "cell_type": "markdown",
   "id": "a6aea269",
   "metadata": {},
   "source": [
    "#### Example 5"
   ]
  },
  {
   "cell_type": "code",
   "execution_count": null,
   "id": "5f26dd4d",
   "metadata": {},
   "outputs": [],
   "source": [
    "numbers1 = [2,3,4] \n",
    "numbers2 = [10,20,30] \n",
    "\n",
    "new_numbers = [x*y for x in numbers1 for y in numbers2]\n",
    "\n",
    "print(new_numbers)"
   ]
  },
  {
   "cell_type": "code",
   "execution_count": null,
   "id": "4197c341",
   "metadata": {},
   "outputs": [],
   "source": [
    "# Alternative:\n",
    "\n",
    "my_numbers = []\n",
    "\n",
    "for x in numbers1:\n",
    "    for y in numbers2:\n",
    "        my_numbers.append(x*y)\n",
    "\n",
    "print(my_numbers)"
   ]
  },
  {
   "cell_type": "code",
   "execution_count": null,
   "id": "80ecd451",
   "metadata": {},
   "outputs": [],
   "source": []
  }
 ],
 "metadata": {
  "kernelspec": {
   "display_name": "Python 3 (ipykernel)",
   "language": "python",
   "name": "python3"
  },
  "language_info": {
   "codemirror_mode": {
    "name": "ipython",
    "version": 3
   },
   "file_extension": ".py",
   "mimetype": "text/x-python",
   "name": "python",
   "nbconvert_exporter": "python",
   "pygments_lexer": "ipython3",
   "version": "3.10.2"
  }
 },
 "nbformat": 4,
 "nbformat_minor": 5
}
