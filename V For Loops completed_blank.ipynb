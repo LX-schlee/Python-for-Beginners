{
 "cells": [
  {
   "cell_type": "markdown",
   "id": "362845f3",
   "metadata": {},
   "source": [
    "## V. For Loops "
   ]
  },
  {
   "cell_type": "markdown",
   "id": "59a9f168",
   "metadata": {},
   "source": [
    "For Loops are used to iterate over a sequence (e.g. list, tuple, string) and perform an operation for each item in the sequence"
   ]
  },
  {
   "cell_type": "code",
   "execution_count": null,
   "id": "23586d1f",
   "metadata": {},
   "outputs": [],
   "source": []
  },
  {
   "cell_type": "markdown",
   "id": "8b411453",
   "metadata": {},
   "source": [
    "#### Iterating over a list"
   ]
  },
  {
   "cell_type": "code",
   "execution_count": null,
   "id": "b3d89ece",
   "metadata": {},
   "outputs": [],
   "source": [
    "# Example 1 - Iterating over the list \"animals\" and print the value for each item "
   ]
  },
  {
   "cell_type": "code",
   "execution_count": null,
   "id": "de690923",
   "metadata": {},
   "outputs": [],
   "source": []
  },
  {
   "cell_type": "code",
   "execution_count": null,
   "id": "02812d88",
   "metadata": {},
   "outputs": [],
   "source": [
    "# Example 2 - Iterating over a list to check for even numbers\n"
   ]
  },
  {
   "cell_type": "code",
   "execution_count": null,
   "id": "17cf6c78",
   "metadata": {},
   "outputs": [],
   "source": [
    "# Example 3 - Iterating over a list and add a number"
   ]
  },
  {
   "cell_type": "code",
   "execution_count": null,
   "id": "3e5c17e8",
   "metadata": {},
   "outputs": [],
   "source": []
  },
  {
   "cell_type": "code",
   "execution_count": null,
   "id": "46be579a",
   "metadata": {},
   "outputs": [],
   "source": [
    "# Example 4 - Break Statement (position is important)"
   ]
  },
  {
   "cell_type": "code",
   "execution_count": null,
   "id": "1d892d54",
   "metadata": {},
   "outputs": [],
   "source": []
  },
  {
   "cell_type": "markdown",
   "id": "ed0660bb",
   "metadata": {},
   "source": [
    "#### Iterating over a tuple"
   ]
  },
  {
   "cell_type": "code",
   "execution_count": null,
   "id": "bdefa831",
   "metadata": {},
   "outputs": [],
   "source": [
    "# Iterating over the tuple \"numbers\" and print the value for each item\n"
   ]
  },
  {
   "cell_type": "code",
   "execution_count": null,
   "id": "5d2dbf69",
   "metadata": {},
   "outputs": [],
   "source": [
    "# Iterating over a list of tuples\n"
   ]
  },
  {
   "cell_type": "code",
   "execution_count": null,
   "id": "39427c8c",
   "metadata": {},
   "outputs": [],
   "source": []
  },
  {
   "cell_type": "markdown",
   "id": "ca9b339f",
   "metadata": {},
   "source": [
    "#### Iterating over a range of numbers"
   ]
  },
  {
   "cell_type": "code",
   "execution_count": null,
   "id": "680c8fd1",
   "metadata": {},
   "outputs": [],
   "source": [
    "# Example 1 -Using the range-function to create a sequence of numbers from 0 to 6 and iterating over it\n"
   ]
  },
  {
   "cell_type": "code",
   "execution_count": null,
   "id": "f3d3867b",
   "metadata": {},
   "outputs": [],
   "source": [
    "# Example 2 -Using the range-function to create a sequence of numbers from 5 to 9\n"
   ]
  },
  {
   "cell_type": "code",
   "execution_count": null,
   "id": "b9a13422",
   "metadata": {},
   "outputs": [],
   "source": [
    "# Example 3 - Using the range function to print a sequence of characters multiple times\n"
   ]
  },
  {
   "cell_type": "code",
   "execution_count": null,
   "id": "5250357f",
   "metadata": {},
   "outputs": [],
   "source": []
  },
  {
   "cell_type": "markdown",
   "id": "c197f460",
   "metadata": {},
   "source": [
    "#### Iterating over a string"
   ]
  },
  {
   "cell_type": "code",
   "execution_count": null,
   "id": "c3c9148d",
   "metadata": {},
   "outputs": [],
   "source": []
  },
  {
   "cell_type": "markdown",
   "id": "fe6b259f",
   "metadata": {},
   "source": [
    "#### Iterating over a dictionary"
   ]
  },
  {
   "cell_type": "code",
   "execution_count": null,
   "id": "a78241f3",
   "metadata": {},
   "outputs": [],
   "source": [
    "# create a dictionary\n"
   ]
  },
  {
   "cell_type": "code",
   "execution_count": null,
   "id": "ed7a8f0f",
   "metadata": {},
   "outputs": [],
   "source": [
    "# iterate through dictionary to grab the keys - option 1\n"
   ]
  },
  {
   "cell_type": "code",
   "execution_count": null,
   "id": "90f495fb",
   "metadata": {},
   "outputs": [],
   "source": [
    "# iterate through dictionary to grab the keys - option 2\n"
   ]
  },
  {
   "cell_type": "code",
   "execution_count": null,
   "id": "591ec850",
   "metadata": {},
   "outputs": [],
   "source": [
    "# iterate through dictionary to grab the values\n"
   ]
  },
  {
   "cell_type": "code",
   "execution_count": null,
   "id": "6cacf0df",
   "metadata": {},
   "outputs": [],
   "source": [
    "# iterate through dictionary to grab the key, value pair\n"
   ]
  },
  {
   "cell_type": "code",
   "execution_count": null,
   "id": "611797e1",
   "metadata": {},
   "outputs": [],
   "source": []
  }
 ],
 "metadata": {
  "kernelspec": {
   "display_name": "Python 3 (ipykernel)",
   "language": "python",
   "name": "python3"
  },
  "language_info": {
   "codemirror_mode": {
    "name": "ipython",
    "version": 3
   },
   "file_extension": ".py",
   "mimetype": "text/x-python",
   "name": "python",
   "nbconvert_exporter": "python",
   "pygments_lexer": "ipython3",
   "version": "3.10.2"
  }
 },
 "nbformat": 4,
 "nbformat_minor": 5
}
