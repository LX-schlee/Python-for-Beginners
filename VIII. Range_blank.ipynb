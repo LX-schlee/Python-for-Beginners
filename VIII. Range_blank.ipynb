{
 "cells": [
  {
   "cell_type": "markdown",
   "id": "ff7b84ee",
   "metadata": {},
   "source": [
    "## Range Function"
   ]
  },
  {
   "cell_type": "markdown",
   "id": "2bca5ab9",
   "metadata": {},
   "source": [
    "The range() function is a build in function that generaters a sequence of numbers. You can use it in loops but also in other situations when you have to iterate over a sequence of numbers."
   ]
  },
  {
   "cell_type": "markdown",
   "id": "f1123870",
   "metadata": {},
   "source": [
    "#### Generate a sequence of numbers from 0 to 9 (without a starting number - shorthand notation)"
   ]
  },
  {
   "cell_type": "code",
   "execution_count": null,
   "id": "019f74de",
   "metadata": {},
   "outputs": [],
   "source": []
  },
  {
   "cell_type": "markdown",
   "id": "484a5379",
   "metadata": {},
   "source": [
    "#### generate a sequence of numbers from 5 to 14 (with a starting number)"
   ]
  },
  {
   "cell_type": "code",
   "execution_count": null,
   "id": "fcb6ba5f",
   "metadata": {},
   "outputs": [],
   "source": []
  },
  {
   "cell_type": "markdown",
   "id": "adc0f84b",
   "metadata": {},
   "source": [
    "#### generate a sequence of numbers from 0 to 10, using a step number (even numbers)"
   ]
  },
  {
   "cell_type": "code",
   "execution_count": null,
   "id": "447394d0",
   "metadata": {},
   "outputs": [],
   "source": []
  },
  {
   "cell_type": "markdown",
   "id": "8cc828da",
   "metadata": {},
   "source": [
    "#### generate a sequence of numbers from 20 to 30, using the step number \"3\" and store the results in a list"
   ]
  },
  {
   "cell_type": "code",
   "execution_count": null,
   "id": "6b0842c2",
   "metadata": {},
   "outputs": [],
   "source": []
  },
  {
   "cell_type": "code",
   "execution_count": null,
   "id": "ac02b06c",
   "metadata": {},
   "outputs": [],
   "source": []
  }
 ],
 "metadata": {
  "kernelspec": {
   "display_name": "Python 3 (ipykernel)",
   "language": "python",
   "name": "python3"
  },
  "language_info": {
   "codemirror_mode": {
    "name": "ipython",
    "version": 3
   },
   "file_extension": ".py",
   "mimetype": "text/x-python",
   "name": "python",
   "nbconvert_exporter": "python",
   "pygments_lexer": "ipython3",
   "version": "3.10.2"
  }
 },
 "nbformat": 4,
 "nbformat_minor": 5
}
