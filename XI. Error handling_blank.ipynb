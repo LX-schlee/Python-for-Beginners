{
 "cells": [
  {
   "cell_type": "code",
   "execution_count": null,
   "id": "a8ba103a",
   "metadata": {},
   "outputs": [],
   "source": [
    "#try:\n",
    "    # code block that may raise an exception\n",
    "    \n",
    "#except <ExceptionType>:\n",
    "    # code block that runs if the specified exception occurs\n",
    "    \n",
    "#else:\n",
    "    # optional code block that runs if no exceptions occur in the try block\n",
    "    \n",
    "#finally:\n",
    "    # optional code block that runs regardless of whether an exception occurred or not"
   ]
  },
  {
   "cell_type": "code",
   "execution_count": null,
   "id": "750b21c9",
   "metadata": {},
   "outputs": [],
   "source": [
    "# https://docs.python.org/3/library/exceptions.html"
   ]
  },
  {
   "cell_type": "code",
   "execution_count": null,
   "id": "8c9f4f1d",
   "metadata": {},
   "outputs": [],
   "source": []
  },
  {
   "cell_type": "markdown",
   "id": "a8f3bacc",
   "metadata": {},
   "source": [
    "#### Example 1 - Simple Try and Except - Statement"
   ]
  },
  {
   "cell_type": "markdown",
   "id": "1c933563",
   "metadata": {},
   "source": [
    "- The try-block is used to enclose a piece of code that may raise an exception or error during the execution\n",
    "- The except-block runs when an exception is raised in the corresponding try-block"
   ]
  },
  {
   "cell_type": "code",
   "execution_count": null,
   "id": "ed1bc38c",
   "metadata": {},
   "outputs": [],
   "source": []
  },
  {
   "cell_type": "markdown",
   "id": "f6edec63",
   "metadata": {},
   "source": [
    "#### Example 2 - Multiple Except- Statements"
   ]
  },
  {
   "cell_type": "markdown",
   "id": "ad06da97",
   "metadata": {},
   "source": [
    "- Multiple except blocks are allowed in the try-except statement. Each except-block can handle a specific exception type that my occur in the try-block"
   ]
  },
  {
   "cell_type": "code",
   "execution_count": null,
   "id": "d6b88dbf",
   "metadata": {},
   "outputs": [],
   "source": []
  },
  {
   "cell_type": "markdown",
   "id": "76ce9977",
   "metadata": {},
   "source": [
    "#### Example 3 - include the else block"
   ]
  },
  {
   "cell_type": "markdown",
   "id": "9c2017f1",
   "metadata": {},
   "source": [
    "- The else-block gets executed if the try-block does not raise an exception "
   ]
  },
  {
   "cell_type": "code",
   "execution_count": null,
   "id": "3aa76263",
   "metadata": {},
   "outputs": [],
   "source": []
  },
  {
   "cell_type": "markdown",
   "id": "ec5b631b",
   "metadata": {},
   "source": [
    "#### Example 4 - Finally block"
   ]
  },
  {
   "cell_type": "markdown",
   "id": "d0bfacdd",
   "metadata": {},
   "source": [
    "- The finally-block is optional and runs regardless of whether an exception occured or not"
   ]
  },
  {
   "cell_type": "code",
   "execution_count": null,
   "id": "6a179dc1",
   "metadata": {},
   "outputs": [],
   "source": []
  }
 ],
 "metadata": {
  "kernelspec": {
   "display_name": "Python 3 (ipykernel)",
   "language": "python",
   "name": "python3"
  },
  "language_info": {
   "codemirror_mode": {
    "name": "ipython",
    "version": 3
   },
   "file_extension": ".py",
   "mimetype": "text/x-python",
   "name": "python",
   "nbconvert_exporter": "python",
   "pygments_lexer": "ipython3",
   "version": "3.10.2"
  }
 },
 "nbformat": 4,
 "nbformat_minor": 5
}
