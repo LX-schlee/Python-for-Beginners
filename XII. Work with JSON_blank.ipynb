{
 "cells": [
  {
   "cell_type": "markdown",
   "id": "6c15caa3",
   "metadata": {},
   "source": [
    "## JSON"
   ]
  },
  {
   "cell_type": "markdown",
   "id": "e708d3e8",
   "metadata": {},
   "source": [
    "JSON is commonly used for transmitting data between a server and a web application, as well as for storing configuration data and exchanging data between different programming languages. It is often used when we work with APIs. Usually you make a request and receive the data in a JSON format so you can go ahead and work with it."
   ]
  },
  {
   "cell_type": "markdown",
   "id": "d03fee41",
   "metadata": {},
   "source": [
    "- #### In Python, a JSON object is represented as a string!"
   ]
  },
  {
   "cell_type": "code",
   "execution_count": null,
   "id": "0792fcf0",
   "metadata": {},
   "outputs": [],
   "source": [
    "# difference between json and dictionary\n",
    "# https://www.scaler.com/topics/convert-dictionary-to-json-python/"
   ]
  },
  {
   "cell_type": "markdown",
   "id": "735a68ec",
   "metadata": {},
   "source": [
    "#### Import Json"
   ]
  },
  {
   "cell_type": "code",
   "execution_count": null,
   "id": "52f96c09",
   "metadata": {},
   "outputs": [],
   "source": []
  },
  {
   "cell_type": "markdown",
   "id": "bb9fad1c",
   "metadata": {},
   "source": [
    "#### simple key-value pairs"
   ]
  },
  {
   "cell_type": "code",
   "execution_count": null,
   "id": "1f261a33",
   "metadata": {},
   "outputs": [],
   "source": []
  },
  {
   "cell_type": "markdown",
   "id": "884e2a80",
   "metadata": {},
   "source": [
    "#### check the data type"
   ]
  },
  {
   "cell_type": "code",
   "execution_count": null,
   "id": "743ef8a2",
   "metadata": {},
   "outputs": [],
   "source": []
  },
  {
   "cell_type": "markdown",
   "id": "3147a98e",
   "metadata": {},
   "source": [
    "#### grab the first name"
   ]
  },
  {
   "cell_type": "markdown",
   "id": "00818d21",
   "metadata": {},
   "source": [
    "In Python, a JSON object is represented as a string, so you need to first parse the JSON string using the json.loads() method to convert it to a Python dictionary or list."
   ]
  },
  {
   "cell_type": "markdown",
   "id": "a7275112",
   "metadata": {},
   "source": [
    "#### Deserialize the JSON string to a Python dictionary"
   ]
  },
  {
   "cell_type": "code",
   "execution_count": null,
   "id": "1d859ec4",
   "metadata": {},
   "outputs": [],
   "source": []
  },
  {
   "cell_type": "code",
   "execution_count": null,
   "id": "b37bce86",
   "metadata": {},
   "outputs": [],
   "source": []
  },
  {
   "cell_type": "markdown",
   "id": "48e2c105",
   "metadata": {},
   "source": [
    "#### grab the first name"
   ]
  },
  {
   "cell_type": "code",
   "execution_count": null,
   "id": "e885b04c",
   "metadata": {},
   "outputs": [],
   "source": []
  },
  {
   "cell_type": "markdown",
   "id": "7a345f48",
   "metadata": {},
   "source": [
    "#### grab the age"
   ]
  },
  {
   "cell_type": "code",
   "execution_count": null,
   "id": "fba8df6d",
   "metadata": {},
   "outputs": [],
   "source": []
  },
  {
   "cell_type": "markdown",
   "id": "596291ab",
   "metadata": {},
   "source": [
    "#### nested key-value pairs"
   ]
  },
  {
   "cell_type": "code",
   "execution_count": null,
   "id": "56e1eb0c",
   "metadata": {},
   "outputs": [],
   "source": []
  },
  {
   "cell_type": "code",
   "execution_count": null,
   "id": "7166c0ff",
   "metadata": {},
   "outputs": [],
   "source": []
  },
  {
   "cell_type": "code",
   "execution_count": null,
   "id": "805980fc",
   "metadata": {},
   "outputs": [],
   "source": []
  },
  {
   "cell_type": "code",
   "execution_count": null,
   "id": "c94b77e2",
   "metadata": {},
   "outputs": [],
   "source": [
    "# json formatter"
   ]
  },
  {
   "cell_type": "markdown",
   "id": "a31570c4",
   "metadata": {},
   "source": [
    "#### JSON to Dictionary"
   ]
  },
  {
   "cell_type": "code",
   "execution_count": null,
   "id": "2d432cc7",
   "metadata": {},
   "outputs": [],
   "source": []
  },
  {
   "cell_type": "code",
   "execution_count": null,
   "id": "d38675c9",
   "metadata": {},
   "outputs": [],
   "source": []
  },
  {
   "cell_type": "markdown",
   "id": "e72db245",
   "metadata": {},
   "source": [
    "#### get city"
   ]
  },
  {
   "cell_type": "code",
   "execution_count": null,
   "id": "d050e895",
   "metadata": {},
   "outputs": [],
   "source": []
  },
  {
   "cell_type": "markdown",
   "id": "5b07eabc",
   "metadata": {},
   "source": [
    "#### get second hobby"
   ]
  },
  {
   "cell_type": "code",
   "execution_count": null,
   "id": "4f2b40bf",
   "metadata": {},
   "outputs": [],
   "source": []
  },
  {
   "cell_type": "markdown",
   "id": "f864869e",
   "metadata": {},
   "source": [
    "#### get job title"
   ]
  },
  {
   "cell_type": "code",
   "execution_count": null,
   "id": "070d4bbd",
   "metadata": {},
   "outputs": [],
   "source": []
  },
  {
   "cell_type": "markdown",
   "id": "9525327b",
   "metadata": {},
   "source": [
    "#### Format Dictionary to JSON"
   ]
  },
  {
   "cell_type": "code",
   "execution_count": null,
   "id": "f1c8a711",
   "metadata": {},
   "outputs": [],
   "source": []
  },
  {
   "cell_type": "code",
   "execution_count": null,
   "id": "75838b2e",
   "metadata": {},
   "outputs": [],
   "source": []
  },
  {
   "cell_type": "code",
   "execution_count": null,
   "id": "ffb67015",
   "metadata": {},
   "outputs": [],
   "source": []
  },
  {
   "cell_type": "code",
   "execution_count": null,
   "id": "c987de24",
   "metadata": {},
   "outputs": [],
   "source": []
  },
  {
   "cell_type": "code",
   "execution_count": null,
   "id": "0f7e74c0",
   "metadata": {},
   "outputs": [],
   "source": []
  },
  {
   "cell_type": "code",
   "execution_count": null,
   "id": "9cf58c41",
   "metadata": {},
   "outputs": [],
   "source": []
  }
 ],
 "metadata": {
  "kernelspec": {
   "display_name": "Python 3 (ipykernel)",
   "language": "python",
   "name": "python3"
  },
  "language_info": {
   "codemirror_mode": {
    "name": "ipython",
    "version": 3
   },
   "file_extension": ".py",
   "mimetype": "text/x-python",
   "name": "python",
   "nbconvert_exporter": "python",
   "pygments_lexer": "ipython3",
   "version": "3.10.2"
  }
 },
 "nbformat": 4,
 "nbformat_minor": 5
}
