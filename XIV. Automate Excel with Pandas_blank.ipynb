{
 "cells": [
  {
   "cell_type": "markdown",
   "id": "c96aad7a",
   "metadata": {},
   "source": [
    "## XIII. Excel & Pandas"
   ]
  },
  {
   "cell_type": "markdown",
   "id": "50b9bcae",
   "metadata": {},
   "source": [
    "Pandas is a Python library for data manipulation and analysis. It provides high-performance, easy-to-use data structures and data analysis tools for working with structured data. Using pandas, you can read and write Excel files with ease, and manipulate the data using the built-in data structures and functions. This can be useful for data cleaning, analysis, and visualization tasks, as well as for automating data processing workflows that involve Excel files."
   ]
  },
  {
   "cell_type": "markdown",
   "id": "e6d2d603",
   "metadata": {},
   "source": [
    "#### import pandas"
   ]
  },
  {
   "cell_type": "code",
   "execution_count": null,
   "id": "27c94549",
   "metadata": {},
   "outputs": [],
   "source": []
  },
  {
   "cell_type": "markdown",
   "id": "5acc4e34",
   "metadata": {},
   "source": [
    "#### Load Data "
   ]
  },
  {
   "cell_type": "code",
   "execution_count": null,
   "id": "a57ba7e7",
   "metadata": {},
   "outputs": [],
   "source": []
  },
  {
   "cell_type": "code",
   "execution_count": null,
   "id": "254047b4",
   "metadata": {},
   "outputs": [],
   "source": []
  },
  {
   "cell_type": "markdown",
   "id": "a43ba194",
   "metadata": {},
   "source": [
    "#### look at the top of the data"
   ]
  },
  {
   "cell_type": "code",
   "execution_count": null,
   "id": "8480a1d8",
   "metadata": {},
   "outputs": [],
   "source": []
  },
  {
   "cell_type": "markdown",
   "id": "7480c084",
   "metadata": {},
   "source": [
    "#### look at the bottom of the data"
   ]
  },
  {
   "cell_type": "code",
   "execution_count": null,
   "id": "3bee288e",
   "metadata": {},
   "outputs": [],
   "source": []
  },
  {
   "cell_type": "markdown",
   "id": "332072d5",
   "metadata": {},
   "source": [
    "#### Get Headers"
   ]
  },
  {
   "cell_type": "code",
   "execution_count": null,
   "id": "6e5fc20d",
   "metadata": {},
   "outputs": [],
   "source": []
  },
  {
   "cell_type": "markdown",
   "id": "0c15b142",
   "metadata": {},
   "source": [
    "#### Get specific column entries"
   ]
  },
  {
   "cell_type": "code",
   "execution_count": null,
   "id": "5d965fb3",
   "metadata": {},
   "outputs": [],
   "source": [
    "# Single Column\n"
   ]
  },
  {
   "cell_type": "code",
   "execution_count": null,
   "id": "ea3cd4c0",
   "metadata": {},
   "outputs": [],
   "source": [
    "# Multiple Columns\n"
   ]
  },
  {
   "cell_type": "markdown",
   "id": "0399a83b",
   "metadata": {},
   "source": [
    "#### Read specific row"
   ]
  },
  {
   "cell_type": "code",
   "execution_count": null,
   "id": "a67593c8",
   "metadata": {},
   "outputs": [],
   "source": [
    "df.iloc[0]\n"
   ]
  },
  {
   "cell_type": "markdown",
   "id": "1de4e24d",
   "metadata": {},
   "source": [
    "#### All Entries of the Salesperson \"Robert\""
   ]
  },
  {
   "cell_type": "code",
   "execution_count": null,
   "id": "8865f535",
   "metadata": {},
   "outputs": [],
   "source": []
  },
  {
   "cell_type": "markdown",
   "id": "520686cb",
   "metadata": {},
   "source": [
    "#### Sort the dataframe by City in alphabetical order"
   ]
  },
  {
   "cell_type": "code",
   "execution_count": null,
   "id": "b005c241",
   "metadata": {},
   "outputs": [],
   "source": []
  },
  {
   "cell_type": "markdown",
   "id": "db2863b3",
   "metadata": {},
   "source": [
    "#### create a new column and calculate the price per unit "
   ]
  },
  {
   "cell_type": "code",
   "execution_count": null,
   "id": "10ec2b10",
   "metadata": {},
   "outputs": [],
   "source": []
  },
  {
   "cell_type": "code",
   "execution_count": null,
   "id": "12cac616",
   "metadata": {},
   "outputs": [],
   "source": []
  },
  {
   "cell_type": "markdown",
   "id": "392ea1e8",
   "metadata": {},
   "source": [
    "#### Drop a Column"
   ]
  },
  {
   "cell_type": "code",
   "execution_count": null,
   "id": "d8129d15",
   "metadata": {},
   "outputs": [],
   "source": []
  },
  {
   "cell_type": "markdown",
   "id": "01892423",
   "metadata": {},
   "source": [
    "#### Filter by Sales > 8000"
   ]
  },
  {
   "cell_type": "code",
   "execution_count": null,
   "id": "026d2a41",
   "metadata": {},
   "outputs": [],
   "source": []
  },
  {
   "cell_type": "markdown",
   "id": "db4e89bc",
   "metadata": {},
   "source": [
    "#### Sum of Sales by Salesperson"
   ]
  },
  {
   "cell_type": "code",
   "execution_count": null,
   "id": "1cddb64d",
   "metadata": {},
   "outputs": [],
   "source": []
  },
  {
   "cell_type": "markdown",
   "id": "6f0876b2",
   "metadata": {},
   "source": [
    "#### Average Sales per Unit by Type"
   ]
  },
  {
   "cell_type": "code",
   "execution_count": null,
   "id": "b112b12a",
   "metadata": {},
   "outputs": [],
   "source": []
  },
  {
   "cell_type": "markdown",
   "id": "870e5afc",
   "metadata": {},
   "source": [
    "#### Group the data by the Month column and calculate the sum of the Sales and Unit"
   ]
  },
  {
   "cell_type": "code",
   "execution_count": null,
   "id": "779697ea",
   "metadata": {},
   "outputs": [],
   "source": []
  },
  {
   "cell_type": "markdown",
   "id": "18b419bf",
   "metadata": {},
   "source": [
    "#### Group by \"Salesperson\" and calculate the sum of \"Sales\" and \"Units\", sorted by \"Sales\" in ascending order"
   ]
  },
  {
   "cell_type": "code",
   "execution_count": null,
   "id": "64a02aae",
   "metadata": {},
   "outputs": [],
   "source": []
  },
  {
   "cell_type": "code",
   "execution_count": null,
   "id": "bc96aeb8",
   "metadata": {},
   "outputs": [],
   "source": []
  },
  {
   "cell_type": "markdown",
   "id": "8780fc40",
   "metadata": {},
   "source": [
    "#### John is fired - Remove all entries where John is involved"
   ]
  },
  {
   "cell_type": "code",
   "execution_count": null,
   "id": "2ff2b349",
   "metadata": {},
   "outputs": [],
   "source": []
  },
  {
   "cell_type": "markdown",
   "id": "5bd2f0e9",
   "metadata": {},
   "source": [
    "#### Reset the Index"
   ]
  },
  {
   "cell_type": "code",
   "execution_count": null,
   "id": "536df961",
   "metadata": {},
   "outputs": [],
   "source": []
  },
  {
   "cell_type": "markdown",
   "id": "0458d58a",
   "metadata": {},
   "source": [
    "#### save dataframe"
   ]
  },
  {
   "cell_type": "code",
   "execution_count": null,
   "id": "1c6acb84",
   "metadata": {},
   "outputs": [],
   "source": []
  },
  {
   "cell_type": "code",
   "execution_count": null,
   "id": "87557116",
   "metadata": {},
   "outputs": [],
   "source": []
  }
 ],
 "metadata": {
  "kernelspec": {
   "display_name": "Python 3 (ipykernel)",
   "language": "python",
   "name": "python3"
  },
  "language_info": {
   "codemirror_mode": {
    "name": "ipython",
    "version": 3
   },
   "file_extension": ".py",
   "mimetype": "text/x-python",
   "name": "python",
   "nbconvert_exporter": "python",
   "pygments_lexer": "ipython3",
   "version": "3.10.2"
  }
 },
 "nbformat": 4,
 "nbformat_minor": 5
}
