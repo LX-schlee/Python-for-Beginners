{
 "cells": [
  {
   "cell_type": "markdown",
   "id": "2c128de0",
   "metadata": {},
   "source": [
    "## VII Functions "
   ]
  },
  {
   "cell_type": "markdown",
   "id": "9124c2f9",
   "metadata": {},
   "source": [
    "Functions are reusable blocks of code. You can pass arguments to functions and it will return a value once the function is called. In Python, the \"def\" keyword is used to define a function, followed by the name of the function"
   ]
  },
  {
   "cell_type": "markdown",
   "id": "99a0f0a6",
   "metadata": {},
   "source": [
    "#### Example 1"
   ]
  },
  {
   "cell_type": "code",
   "execution_count": null,
   "id": "e5a71576",
   "metadata": {},
   "outputs": [],
   "source": [
    "# define a function with one argument\n"
   ]
  },
  {
   "cell_type": "code",
   "execution_count": null,
   "id": "cbcf4b03",
   "metadata": {},
   "outputs": [],
   "source": [
    "# call function\n"
   ]
  },
  {
   "cell_type": "markdown",
   "id": "86fbf469",
   "metadata": {},
   "source": [
    "#### Example 2"
   ]
  },
  {
   "cell_type": "code",
   "execution_count": null,
   "id": "e095ad91",
   "metadata": {},
   "outputs": [],
   "source": [
    "# define a function with two arguments\n"
   ]
  },
  {
   "cell_type": "code",
   "execution_count": null,
   "id": "5f469afe",
   "metadata": {},
   "outputs": [],
   "source": [
    "# call function\n"
   ]
  },
  {
   "cell_type": "markdown",
   "id": "7b714a77",
   "metadata": {},
   "source": [
    "#### Example 3"
   ]
  },
  {
   "cell_type": "code",
   "execution_count": null,
   "id": "6fff390c",
   "metadata": {},
   "outputs": [],
   "source": [
    "# Return value \n"
   ]
  },
  {
   "cell_type": "markdown",
   "id": "2d1ad979",
   "metadata": {},
   "source": [
    "#### Example 4"
   ]
  },
  {
   "cell_type": "code",
   "execution_count": null,
   "id": "dc206048",
   "metadata": {},
   "outputs": [],
   "source": [
    "# Working with default values\n",
    "    "
   ]
  },
  {
   "cell_type": "markdown",
   "id": "73fc4f5a",
   "metadata": {},
   "source": [
    "#### Example 5"
   ]
  },
  {
   "cell_type": "code",
   "execution_count": null,
   "id": "d6d25001",
   "metadata": {},
   "outputs": [],
   "source": [
    "# return odd numbers in a list\n"
   ]
  },
  {
   "cell_type": "markdown",
   "id": "d0100459",
   "metadata": {},
   "source": [
    "## VIII. Lambda Functions"
   ]
  },
  {
   "cell_type": "markdown",
   "id": "fb32c898",
   "metadata": {},
   "source": [
    "Anonymous functions which can be defined in a single line of code (used for one line expressions). It can have different number of arguments (before column), but only one expression (after column)\n",
    "#### Syntax: \"lambda arguments: expression\""
   ]
  },
  {
   "cell_type": "code",
   "execution_count": null,
   "id": "fa73751b",
   "metadata": {},
   "outputs": [],
   "source": [
    "# lambda function with a single argument (add 7 to a given argument)\n"
   ]
  },
  {
   "cell_type": "code",
   "execution_count": null,
   "id": "74366aa7",
   "metadata": {},
   "outputs": [],
   "source": [
    "# lambda function with multiple arguments (calculate average of three numbers)\n"
   ]
  },
  {
   "cell_type": "code",
   "execution_count": null,
   "id": "d549fc84",
   "metadata": {},
   "outputs": [],
   "source": [
    "# Map- function to square numbers in a given list \n"
   ]
  },
  {
   "cell_type": "code",
   "execution_count": null,
   "id": "c48f5132",
   "metadata": {},
   "outputs": [],
   "source": [
    "# Filter function to filter out the odd numbers\n"
   ]
  },
  {
   "cell_type": "code",
   "execution_count": null,
   "id": "18b490a0",
   "metadata": {},
   "outputs": [],
   "source": []
  }
 ],
 "metadata": {
  "kernelspec": {
   "display_name": "Python 3 (ipykernel)",
   "language": "python",
   "name": "python3"
  },
  "language_info": {
   "codemirror_mode": {
    "name": "ipython",
    "version": 3
   },
   "file_extension": ".py",
   "mimetype": "text/x-python",
   "name": "python",
   "nbconvert_exporter": "python",
   "pygments_lexer": "ipython3",
   "version": "3.10.2"
  }
 },
 "nbformat": 4,
 "nbformat_minor": 5
}
