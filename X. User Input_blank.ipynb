{
 "cells": [
  {
   "cell_type": "markdown",
   "id": "c5d0aea1",
   "metadata": {},
   "source": [
    "## User Input"
   ]
  },
  {
   "cell_type": "markdown",
   "id": "31a75940",
   "metadata": {},
   "source": [
    "User input allows users to interact with the programm by entering the data. Python provides a built-in \"input()\" function and prompts the user to enter a string and returns that string afterwards"
   ]
  },
  {
   "cell_type": "markdown",
   "id": "5ed854dd",
   "metadata": {},
   "source": [
    "#### Examples"
   ]
  },
  {
   "cell_type": "code",
   "execution_count": null,
   "id": "d08e1eca",
   "metadata": {},
   "outputs": [],
   "source": []
  },
  {
   "cell_type": "code",
   "execution_count": null,
   "id": "31323542",
   "metadata": {},
   "outputs": [],
   "source": []
  },
  {
   "cell_type": "code",
   "execution_count": null,
   "id": "31bebe59",
   "metadata": {},
   "outputs": [],
   "source": []
  },
  {
   "cell_type": "code",
   "execution_count": null,
   "id": "e190fb2f",
   "metadata": {},
   "outputs": [],
   "source": []
  },
  {
   "cell_type": "code",
   "execution_count": null,
   "id": "b53afdf1",
   "metadata": {},
   "outputs": [],
   "source": []
  },
  {
   "cell_type": "markdown",
   "id": "8cc1098b",
   "metadata": {},
   "source": [
    "#### Write a simple input program with:\n",
    "- a simple mathematical operation\n",
    "- string concatenation\n",
    "- strings, int, float"
   ]
  },
  {
   "cell_type": "code",
   "execution_count": null,
   "id": "49c20d51",
   "metadata": {},
   "outputs": [],
   "source": [
    "# name - string\n",
    "\n",
    "\n",
    "# age - int\n",
    "\n",
    "\n",
    "# origin - string\n",
    "\n",
    "\n",
    "# height - float\n"
   ]
  },
  {
   "cell_type": "code",
   "execution_count": null,
   "id": "ff6226ba",
   "metadata": {},
   "outputs": [],
   "source": []
  }
 ],
 "metadata": {
  "kernelspec": {
   "display_name": "Python 3 (ipykernel)",
   "language": "python",
   "name": "python3"
  },
  "language_info": {
   "codemirror_mode": {
    "name": "ipython",
    "version": 3
   },
   "file_extension": ".py",
   "mimetype": "text/x-python",
   "name": "python",
   "nbconvert_exporter": "python",
   "pygments_lexer": "ipython3",
   "version": "3.10.2"
  }
 },
 "nbformat": 4,
 "nbformat_minor": 5
}
