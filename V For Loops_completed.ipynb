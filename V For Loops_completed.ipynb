{
 "cells": [
  {
   "cell_type": "markdown",
   "id": "362845f3",
   "metadata": {},
   "source": [
    "## V. For Loops "
   ]
  },
  {
   "cell_type": "markdown",
   "id": "59a9f168",
   "metadata": {},
   "source": [
    "For Loops are used to iterate over a sequence (e.g. list, tuple, string) and perform an operation for each item in the sequence"
   ]
  },
  {
   "cell_type": "code",
   "execution_count": null,
   "id": "23586d1f",
   "metadata": {},
   "outputs": [],
   "source": []
  },
  {
   "cell_type": "markdown",
   "id": "8b411453",
   "metadata": {},
   "source": [
    "#### Iterating over a list"
   ]
  },
  {
   "cell_type": "code",
   "execution_count": null,
   "id": "b3d89ece",
   "metadata": {},
   "outputs": [],
   "source": [
    "# Example 1 - Iterating over the list \"animals\" and print the value for each item "
   ]
  },
  {
   "cell_type": "code",
   "execution_count": 2,
   "id": "de690923",
   "metadata": {},
   "outputs": [
    {
     "name": "stdout",
     "output_type": "stream",
     "text": [
      "fish\n",
      "chicken\n",
      "cow\n"
     ]
    }
   ],
   "source": [
    "animals = [\"fish\", \"chicken\", \"cow\"]\n",
    "for animal in animals:\n",
    "    print(animal)"
   ]
  },
  {
   "cell_type": "code",
   "execution_count": 12,
   "id": "02812d88",
   "metadata": {},
   "outputs": [
    {
     "name": "stdout",
     "output_type": "stream",
     "text": [
      "2\n",
      "4\n",
      "6\n",
      "8\n",
      "10\n"
     ]
    }
   ],
   "source": [
    "# Example 2 - Iterating over a list to check for even numbers\n",
    "my_numbers_list = [1,2,3,4,5,6,7,8,9,10]\n",
    "\n",
    "for number in my_numbers_list:\n",
    "    # check for even numbers\n",
    "    if number %2 == 0:\n",
    "        print(number)"
   ]
  },
  {
   "cell_type": "code",
   "execution_count": null,
   "id": "17cf6c78",
   "metadata": {},
   "outputs": [],
   "source": [
    "# Example 3 - Iterating over a list and add a number"
   ]
  },
  {
   "cell_type": "code",
   "execution_count": 15,
   "id": "3e5c17e8",
   "metadata": {},
   "outputs": [
    {
     "name": "stdout",
     "output_type": "stream",
     "text": [
      "11\n",
      "12\n",
      "13\n",
      "14\n",
      "15\n",
      "16\n",
      "17\n",
      "18\n",
      "19\n",
      "20\n"
     ]
    }
   ],
   "source": [
    "for num_add in my_numbers_list:\n",
    "    print (num_add + 10)"
   ]
  },
  {
   "cell_type": "code",
   "execution_count": null,
   "id": "46be579a",
   "metadata": {},
   "outputs": [],
   "source": [
    "# Example 4 - Break Statement (position is important)"
   ]
  },
  {
   "cell_type": "code",
   "execution_count": 44,
   "id": "1d892d54",
   "metadata": {},
   "outputs": [
    {
     "name": "stdout",
     "output_type": "stream",
     "text": [
      "The current animal is a fish\n",
      "The current animal is a chicken\n",
      "The current animal is a cow\n"
     ]
    }
   ],
   "source": [
    "animals2 = [\"fish\", \"chicken\", \"cow\", \"bear\", \"mouse\"]\n",
    "\n",
    "for animal in animals2:\n",
    "    print(\"The current animal is a \" + animal)\n",
    "    if animal == \"cow\":\n",
    "        break    "
   ]
  },
  {
   "cell_type": "markdown",
   "id": "ed0660bb",
   "metadata": {},
   "source": [
    "#### Iterating over a tuple"
   ]
  },
  {
   "cell_type": "code",
   "execution_count": 3,
   "id": "bdefa831",
   "metadata": {},
   "outputs": [
    {
     "name": "stdout",
     "output_type": "stream",
     "text": [
      "1\n",
      "3\n",
      "4\n",
      "5\n",
      "100\n"
     ]
    }
   ],
   "source": [
    "# Iterating over the tuple \"numbers\" and print the value for each item\n",
    "numbers = (1,3,4,5,100)\n",
    "for number in numbers:\n",
    "    print(number)"
   ]
  },
  {
   "cell_type": "code",
   "execution_count": 31,
   "id": "5d2dbf69",
   "metadata": {},
   "outputs": [
    {
     "name": "stdout",
     "output_type": "stream",
     "text": [
      "(1, 'fish')\n",
      "(2, 'bear')\n",
      "(3, 'crocodile')\n"
     ]
    }
   ],
   "source": [
    "# Iterating over a list of tuples\n",
    "list_of_tuples = [(1,\"fish\"),(2,\"bear\"),(3,\"crocodile\")]\n",
    "for items in list_of_tuples:\n",
    "    print(items)"
   ]
  },
  {
   "cell_type": "code",
   "execution_count": null,
   "id": "39427c8c",
   "metadata": {},
   "outputs": [],
   "source": []
  },
  {
   "cell_type": "markdown",
   "id": "ca9b339f",
   "metadata": {},
   "source": [
    "#### Iterating over a range of numbers"
   ]
  },
  {
   "cell_type": "code",
   "execution_count": 4,
   "id": "680c8fd1",
   "metadata": {},
   "outputs": [
    {
     "name": "stdout",
     "output_type": "stream",
     "text": [
      "0\n",
      "1\n",
      "2\n",
      "3\n",
      "4\n",
      "5\n",
      "6\n"
     ]
    }
   ],
   "source": [
    "# Example 1 -Using the range-function to create a sequence of numbers from 0 to 6 and iterating over it\n",
    "for i in range(7):\n",
    "    print(i)"
   ]
  },
  {
   "cell_type": "code",
   "execution_count": 49,
   "id": "f3d3867b",
   "metadata": {},
   "outputs": [
    {
     "name": "stdout",
     "output_type": "stream",
     "text": [
      "The current number is  5\n",
      "The current number is  6\n",
      "The current number is  7\n",
      "The current number is  8\n",
      "The current number is  9\n"
     ]
    }
   ],
   "source": [
    "# Example 2 -Using the range-function to create a sequence of numbers from 5 to 9\n",
    "for i in range(5,10):\n",
    "    print(\"The current number is \", i)"
   ]
  },
  {
   "cell_type": "code",
   "execution_count": 5,
   "id": "b9a13422",
   "metadata": {},
   "outputs": [
    {
     "name": "stdout",
     "output_type": "stream",
     "text": [
      "My name is Jack\n",
      "My name is Jack\n",
      "My name is Jack\n",
      "My name is Jack\n"
     ]
    }
   ],
   "source": [
    "# Example 3 - Using the range function to print a sequence of characters multiple times\n",
    "for i in range(4):\n",
    "    print(\"My name is Jack\")"
   ]
  },
  {
   "cell_type": "code",
   "execution_count": null,
   "id": "5250357f",
   "metadata": {},
   "outputs": [],
   "source": []
  },
  {
   "cell_type": "markdown",
   "id": "c197f460",
   "metadata": {},
   "source": [
    "#### Iterating over a string"
   ]
  },
  {
   "cell_type": "code",
   "execution_count": 16,
   "id": "c3c9148d",
   "metadata": {},
   "outputs": [
    {
     "name": "stdout",
     "output_type": "stream",
     "text": [
      "H\n",
      "a\n",
      "m\n",
      "b\n",
      "u\n",
      "r\n",
      "g\n"
     ]
    }
   ],
   "source": [
    "the_string = \"Hamburg\"\n",
    "for letter in the_string:\n",
    "    print(letter)"
   ]
  },
  {
   "cell_type": "markdown",
   "id": "fe6b259f",
   "metadata": {},
   "source": [
    "#### Iterating over a dictionary"
   ]
  },
  {
   "cell_type": "code",
   "execution_count": 24,
   "id": "a78241f3",
   "metadata": {},
   "outputs": [],
   "source": [
    "# create a dictionary\n",
    "random_person = {\"first_name\":\"Max\", \n",
    "                 \"last_name\":\"Johnson\", \n",
    "                 \"age\": 45, \n",
    "                 \"city\": \n",
    "                 \"Helsinki\", \n",
    "                 \"country\":\"Finland\"}"
   ]
  },
  {
   "cell_type": "code",
   "execution_count": 25,
   "id": "ed7a8f0f",
   "metadata": {},
   "outputs": [
    {
     "name": "stdout",
     "output_type": "stream",
     "text": [
      "first_name\n",
      "last_name\n",
      "age\n",
      "city\n",
      "country\n"
     ]
    }
   ],
   "source": [
    "# iterate through dictionary to grab the keys - option 1\n",
    "for key in random_person:\n",
    "    print(key)"
   ]
  },
  {
   "cell_type": "code",
   "execution_count": 26,
   "id": "90f495fb",
   "metadata": {},
   "outputs": [
    {
     "name": "stdout",
     "output_type": "stream",
     "text": [
      "first_name\n",
      "last_name\n",
      "age\n",
      "city\n",
      "country\n"
     ]
    }
   ],
   "source": [
    "# iterate through dictionary to grab the keys - option 2\n",
    "for key in random_person.keys():\n",
    "    print(key)"
   ]
  },
  {
   "cell_type": "code",
   "execution_count": 27,
   "id": "591ec850",
   "metadata": {},
   "outputs": [
    {
     "name": "stdout",
     "output_type": "stream",
     "text": [
      "Max\n",
      "Johnson\n",
      "45\n",
      "Helsinki\n",
      "Finland\n"
     ]
    }
   ],
   "source": [
    "# iterate through dictionary to grab the values\n",
    "for value in random_person.values():\n",
    "    print(value)"
   ]
  },
  {
   "cell_type": "code",
   "execution_count": 30,
   "id": "6cacf0df",
   "metadata": {},
   "outputs": [
    {
     "name": "stdout",
     "output_type": "stream",
     "text": [
      "first_name = Max\n",
      "last_name = Johnson\n",
      "age = 45\n",
      "city = Helsinki\n",
      "country = Finland\n"
     ]
    }
   ],
   "source": [
    "# iterate through dictionary to grab the key, value pair\n",
    "for key, value in random_person.items():\n",
    "    print(key, \"=\", value)"
   ]
  },
  {
   "cell_type": "code",
   "execution_count": null,
   "id": "611797e1",
   "metadata": {},
   "outputs": [],
   "source": []
  }
 ],
 "metadata": {
  "kernelspec": {
   "display_name": "Python 3 (ipykernel)",
   "language": "python",
   "name": "python3"
  },
  "language_info": {
   "codemirror_mode": {
    "name": "ipython",
    "version": 3
   },
   "file_extension": ".py",
   "mimetype": "text/x-python",
   "name": "python",
   "nbconvert_exporter": "python",
   "pygments_lexer": "ipython3",
   "version": "3.10.2"
  }
 },
 "nbformat": 4,
 "nbformat_minor": 5
}
