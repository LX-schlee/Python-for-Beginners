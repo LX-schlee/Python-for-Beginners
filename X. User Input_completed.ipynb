{
 "cells": [
  {
   "cell_type": "markdown",
   "id": "c5d0aea1",
   "metadata": {},
   "source": [
    "## User Input"
   ]
  },
  {
   "cell_type": "markdown",
   "id": "31a75940",
   "metadata": {},
   "source": [
    "User input allows users to interact with the programm by entering the data. Python provides a built-in \"input()\" function and prompts the user to enter a string and returns that string afterwards"
   ]
  },
  {
   "cell_type": "markdown",
   "id": "5ed854dd",
   "metadata": {},
   "source": [
    "#### Examples"
   ]
  },
  {
   "cell_type": "code",
   "execution_count": 4,
   "id": "d08e1eca",
   "metadata": {},
   "outputs": [
    {
     "name": "stdout",
     "output_type": "stream",
     "text": [
      "Whats your name?BMW\n"
     ]
    },
    {
     "data": {
      "text/plain": [
       "'BMW'"
      ]
     },
     "execution_count": 4,
     "metadata": {},
     "output_type": "execute_result"
    }
   ],
   "source": [
    "input(\"Whats your favorite car brand?\")"
   ]
  },
  {
   "cell_type": "code",
   "execution_count": 21,
   "id": "31323542",
   "metadata": {},
   "outputs": [
    {
     "name": "stdout",
     "output_type": "stream",
     "text": [
      "How old are you?\n"
     ]
    }
   ],
   "source": [
    "age = input(\"How old are you?\")"
   ]
  },
  {
   "cell_type": "code",
   "execution_count": 22,
   "id": "31bebe59",
   "metadata": {},
   "outputs": [
    {
     "data": {
      "text/plain": [
       "str"
      ]
     },
     "execution_count": 22,
     "metadata": {},
     "output_type": "execute_result"
    }
   ],
   "source": [
    "type(age)"
   ]
  },
  {
   "cell_type": "code",
   "execution_count": 23,
   "id": "e190fb2f",
   "metadata": {},
   "outputs": [
    {
     "name": "stdout",
     "output_type": "stream",
     "text": [
      "How old are you?34\n"
     ]
    }
   ],
   "source": [
    "age = int(input(\"How old are you?\"))"
   ]
  },
  {
   "cell_type": "code",
   "execution_count": 24,
   "id": "b53afdf1",
   "metadata": {},
   "outputs": [
    {
     "data": {
      "text/plain": [
       "int"
      ]
     },
     "execution_count": 24,
     "metadata": {},
     "output_type": "execute_result"
    }
   ],
   "source": [
    "type(age)"
   ]
  },
  {
   "cell_type": "markdown",
   "id": "8cc1098b",
   "metadata": {},
   "source": [
    "#### Write a simple input program with:\n",
    "- a simple mathematical operation\n",
    "- string concatenation\n",
    "- strings, int, float"
   ]
  },
  {
   "cell_type": "code",
   "execution_count": 29,
   "id": "49c20d51",
   "metadata": {},
   "outputs": [
    {
     "name": "stdout",
     "output_type": "stream",
     "text": [
      "What is your name?Alex\n",
      "How old are you?30\n",
      "Where do you currently live?Hamburg\n",
      "How tall are you(in cm) ?185\n"
     ]
    }
   ],
   "source": [
    "# name - string\n",
    "name = input(\"What is your name?\")\n",
    "\n",
    "# age - int\n",
    "age = int(input(\"How old are you?\"))\n",
    "\n",
    "# origin - string\n",
    "location = input(\"Where do you currently live?\")\n",
    "\n",
    "# height - float\n",
    "height = float(input(\"How tall are you(in cm) ?\"))"
   ]
  },
  {
   "cell_type": "code",
   "execution_count": 31,
   "id": "a3c16cc3",
   "metadata": {},
   "outputs": [
    {
     "name": "stdout",
     "output_type": "stream",
     "text": [
      "Allright, let me summarize what I know about you: Your name is Alex, you are 35 years old, you are living in Hamburg and you are 185.0 cm tall\n"
     ]
    }
   ],
   "source": [
    "print(\"Allright, let me summarize what I know about you: Your name is \" + name + \", you are \" + \n",
    "      str(age+5) + \" years old, you are living in \" + location +\" and you are \" + str(height) + \" cm tall\")"
   ]
  },
  {
   "cell_type": "code",
   "execution_count": null,
   "id": "ff6226ba",
   "metadata": {},
   "outputs": [],
   "source": []
  }
 ],
 "metadata": {
  "kernelspec": {
   "display_name": "Python 3 (ipykernel)",
   "language": "python",
   "name": "python3"
  },
  "language_info": {
   "codemirror_mode": {
    "name": "ipython",
    "version": 3
   },
   "file_extension": ".py",
   "mimetype": "text/x-python",
   "name": "python",
   "nbconvert_exporter": "python",
   "pygments_lexer": "ipython3",
   "version": "3.10.2"
  }
 },
 "nbformat": 4,
 "nbformat_minor": 5
}
