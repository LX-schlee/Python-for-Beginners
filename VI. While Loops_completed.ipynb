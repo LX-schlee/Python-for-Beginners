{
 "cells": [
  {
   "cell_type": "markdown",
   "id": "098d2e49",
   "metadata": {},
   "source": [
    "## VI. While Loops"
   ]
  },
  {
   "cell_type": "markdown",
   "id": "64afd663",
   "metadata": {},
   "source": [
    "Control flow statement that allows code to be executed as long as a condition is \"True\". The condition itself is a Boolean expression that is evaluated at the beginning of each iteration of the loop. If the condition is \"True\", the code block inside the loop is executed. After the code block execution, the condition is evaluated again, and the loop continues until the Condition is \"False\""
   ]
  },
  {
   "cell_type": "code",
   "execution_count": null,
   "id": "8bb712d3",
   "metadata": {},
   "outputs": [],
   "source": []
  },
  {
   "cell_type": "markdown",
   "id": "7b57fc9c",
   "metadata": {},
   "source": [
    "#### Simple While Loop"
   ]
  },
  {
   "cell_type": "code",
   "execution_count": null,
   "id": "7244837f",
   "metadata": {},
   "outputs": [],
   "source": [
    "# Example 1\n",
    "a = 0\n",
    "while a < 5:\n",
    "    print(a)\n",
    "    # a = a+1\n",
    "    a += 1 "
   ]
  },
  {
   "cell_type": "code",
   "execution_count": null,
   "id": "031bdb0c",
   "metadata": {},
   "outputs": [],
   "source": [
    "# Example 2 - Printing the first n even numbers\n",
    "n = 5\n",
    "i = 1\n",
    "while i <= n:\n",
    "    print(\"The value is\", i * 2)\n",
    "    i += 1"
   ]
  },
  {
   "cell_type": "markdown",
   "id": "1c171712",
   "metadata": {},
   "source": [
    "#### While Loop with User Input and Break-Statement"
   ]
  },
  {
   "cell_type": "code",
   "execution_count": null,
   "id": "f1e8d110",
   "metadata": {},
   "outputs": [],
   "source": [
    "# The User has to guess the special number. If the guess equals the special number, the While-Loop will be left using the break statement\n",
    "\n",
    "special_number = 30\n",
    "\n",
    "while True:\n",
    "    number = int(input(\"Go ahead and guess the correct number: \"))\n",
    "    if number == special_number:\n",
    "        print(\"Congrats, 30 is the right number and we will leave the While-Loop now\")\n",
    "        break\n",
    "    else:\n",
    "        print(\"Sorry, but number \" + str(number) + \" is not correct\")"
   ]
  },
  {
   "cell_type": "code",
   "execution_count": null,
   "id": "ad10c12b",
   "metadata": {},
   "outputs": [],
   "source": []
  },
  {
   "cell_type": "markdown",
   "id": "e90488d9",
   "metadata": {},
   "source": [
    "### break, continue, pass"
   ]
  },
  {
   "cell_type": "markdown",
   "id": "c5c0f609",
   "metadata": {},
   "source": [
    "In Python, you can use \"break\", \"continue\" and \"pass\" as control statements to control the flow of a loop or conditional statement\n",
    "\n",
    "- break: exits a loop if a certain condition is met\n",
    "- continue: skips over a certain iteration of a loop if a certain condition is met\n",
    "- pass: placeholder statement which tells to do nothing - useful as placeholder for code which hasn't been written yet"
   ]
  },
  {
   "cell_type": "markdown",
   "id": "2c355373",
   "metadata": {},
   "source": [
    "#### break"
   ]
  },
  {
   "cell_type": "code",
   "execution_count": null,
   "id": "6807e43a",
   "metadata": {},
   "outputs": [],
   "source": [
    "fruits_collection = [\"Apple\", \"Orange\", \"Watermelon\", \"Stawberry\", \"Cherry\"]\n",
    "\n",
    "for fruit in fruits_collection:\n",
    "    print(fruit)\n",
    "    if fruit ==\"Watermelon\":\n",
    "        break"
   ]
  },
  {
   "cell_type": "markdown",
   "id": "846e0401",
   "metadata": {},
   "source": [
    "#### continue"
   ]
  },
  {
   "cell_type": "code",
   "execution_count": null,
   "id": "576de165",
   "metadata": {},
   "outputs": [],
   "source": [
    "new_string = \"Apple\"\n",
    "\n",
    "for letter in new_string:\n",
    "    if letter == \"p\":\n",
    "        continue\n",
    "    print(letter)"
   ]
  },
  {
   "cell_type": "markdown",
   "id": "0ddd06c0",
   "metadata": {},
   "source": [
    "#### pass"
   ]
  },
  {
   "cell_type": "code",
   "execution_count": null,
   "id": "0d3a160d",
   "metadata": {},
   "outputs": [],
   "source": [
    "animal_collection = [\"monkey\", \"crocodile\", \"fish\"]\n",
    "\n",
    "for animal in animal_collection:\n",
    "    # do nothing\n",
    "    pass\n",
    "print(\"I won't show you my animal collection\")\n",
    "print(\"Bye Bye\")"
   ]
  },
  {
   "cell_type": "code",
   "execution_count": null,
   "id": "a7a93bab",
   "metadata": {},
   "outputs": [],
   "source": []
  }
 ],
 "metadata": {
  "kernelspec": {
   "display_name": "Python 3 (ipykernel)",
   "language": "python",
   "name": "python3"
  },
  "language_info": {
   "codemirror_mode": {
    "name": "ipython",
    "version": 3
   },
   "file_extension": ".py",
   "mimetype": "text/x-python",
   "name": "python",
   "nbconvert_exporter": "python",
   "pygments_lexer": "ipython3",
   "version": "3.10.2"
  }
 },
 "nbformat": 4,
 "nbformat_minor": 5
}
