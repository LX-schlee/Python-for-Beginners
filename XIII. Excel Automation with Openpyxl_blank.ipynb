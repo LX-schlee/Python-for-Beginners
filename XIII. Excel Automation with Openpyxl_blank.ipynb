{
 "cells": [
  {
   "cell_type": "markdown",
   "id": "1eff70cf",
   "metadata": {},
   "source": [
    "#### import openpyxl"
   ]
  },
  {
   "cell_type": "code",
   "execution_count": null,
   "id": "1e9cb595",
   "metadata": {},
   "outputs": [],
   "source": []
  },
  {
   "cell_type": "markdown",
   "id": "0af043d5",
   "metadata": {},
   "source": [
    "#### open existing workbook"
   ]
  },
  {
   "cell_type": "code",
   "execution_count": null,
   "id": "fa7e2a22",
   "metadata": {},
   "outputs": [],
   "source": []
  },
  {
   "cell_type": "markdown",
   "id": "84935c0d",
   "metadata": {},
   "source": [
    "#### get access to the active sheet"
   ]
  },
  {
   "cell_type": "code",
   "execution_count": null,
   "id": "a16325c7",
   "metadata": {},
   "outputs": [],
   "source": []
  },
  {
   "cell_type": "markdown",
   "id": "b8355b44",
   "metadata": {},
   "source": [
    "#### get access to specific cell"
   ]
  },
  {
   "cell_type": "code",
   "execution_count": null,
   "id": "f28611dc",
   "metadata": {},
   "outputs": [],
   "source": []
  },
  {
   "cell_type": "markdown",
   "id": "9eb4133b",
   "metadata": {},
   "source": [
    "#### set cell value"
   ]
  },
  {
   "cell_type": "code",
   "execution_count": null,
   "id": "ed44295e",
   "metadata": {},
   "outputs": [],
   "source": []
  },
  {
   "cell_type": "code",
   "execution_count": null,
   "id": "db143702",
   "metadata": {},
   "outputs": [],
   "source": []
  },
  {
   "cell_type": "code",
   "execution_count": null,
   "id": "b3f790b5",
   "metadata": {},
   "outputs": [],
   "source": []
  },
  {
   "cell_type": "markdown",
   "id": "a0092475",
   "metadata": {},
   "source": [
    "#### set sheet name"
   ]
  },
  {
   "cell_type": "code",
   "execution_count": null,
   "id": "7ddd5006",
   "metadata": {},
   "outputs": [],
   "source": []
  },
  {
   "cell_type": "markdown",
   "id": "0a1c5402",
   "metadata": {},
   "source": [
    "#### save workbook"
   ]
  },
  {
   "cell_type": "code",
   "execution_count": null,
   "id": "1dfd60fa",
   "metadata": {},
   "outputs": [],
   "source": []
  },
  {
   "cell_type": "markdown",
   "id": "c23c1ee4",
   "metadata": {},
   "source": [
    "#### create second sheet"
   ]
  },
  {
   "cell_type": "code",
   "execution_count": null,
   "id": "1ce5f9b7",
   "metadata": {},
   "outputs": [],
   "source": []
  },
  {
   "cell_type": "markdown",
   "id": "8d4a9a43",
   "metadata": {},
   "source": [
    "#### print all of the sheets"
   ]
  },
  {
   "cell_type": "code",
   "execution_count": null,
   "id": "d952889e",
   "metadata": {},
   "outputs": [],
   "source": []
  },
  {
   "cell_type": "markdown",
   "id": "bbd41e11",
   "metadata": {},
   "source": [
    "#### set values to second sheet"
   ]
  },
  {
   "cell_type": "code",
   "execution_count": null,
   "id": "c8916123",
   "metadata": {},
   "outputs": [],
   "source": []
  },
  {
   "cell_type": "markdown",
   "id": "18ff8c9d",
   "metadata": {},
   "source": [
    "#### create new excel file"
   ]
  },
  {
   "cell_type": "code",
   "execution_count": null,
   "id": "39d5741c",
   "metadata": {},
   "outputs": [],
   "source": []
  },
  {
   "cell_type": "markdown",
   "id": "f0d4a4f0",
   "metadata": {},
   "source": [
    "#### set values to new excel file"
   ]
  },
  {
   "cell_type": "code",
   "execution_count": null,
   "id": "50c408d0",
   "metadata": {},
   "outputs": [],
   "source": []
  },
  {
   "cell_type": "markdown",
   "id": "f267bf43",
   "metadata": {},
   "source": [
    "#### insert rows"
   ]
  },
  {
   "cell_type": "code",
   "execution_count": null,
   "id": "3d12c9d3",
   "metadata": {},
   "outputs": [],
   "source": [
    "# insert new row\n"
   ]
  },
  {
   "cell_type": "markdown",
   "id": "8943a8c1",
   "metadata": {},
   "source": [
    "#### insert new column"
   ]
  },
  {
   "cell_type": "code",
   "execution_count": null,
   "id": "23c5d7a8",
   "metadata": {},
   "outputs": [],
   "source": []
  },
  {
   "cell_type": "markdown",
   "id": "f843949d",
   "metadata": {},
   "source": [
    "#### multiplication for range of cells - prüfen und ggfs. überarbeiten"
   ]
  },
  {
   "cell_type": "code",
   "execution_count": null,
   "id": "33b6473a",
   "metadata": {},
   "outputs": [],
   "source": []
  },
  {
   "cell_type": "code",
   "execution_count": null,
   "id": "93592af0",
   "metadata": {},
   "outputs": [],
   "source": []
  },
  {
   "cell_type": "markdown",
   "id": "d1d7972e",
   "metadata": {},
   "source": [
    "### Exercise"
   ]
  },
  {
   "cell_type": "code",
   "execution_count": null,
   "id": "38f449e3",
   "metadata": {},
   "outputs": [],
   "source": [
    "# dictionary\n",
    "fruit_prices = {\n",
    "    \n",
    "    \"Rewe\": {\n",
    "        \"apple\": 1.19,\n",
    "        \"watermelon\": 3.99,\n",
    "        \"pineapple\": 4.29,\n",
    "        \"grapes\": 2.49        \n",
    "    },\n",
    "    \n",
    "    \"Lidl\": {\n",
    "        \"apple\": 0.89,\n",
    "        \"watermelon\": 3.49,\n",
    "        \"pineapple\": 3.99,\n",
    "        \"grapes\": 2.19\n",
    "    },\n",
    "    \n",
    "    \"Netto\": {\n",
    "        \"apple\": 1.49,\n",
    "        \"watermelon\": 4.49,\n",
    "        \"pineapple\": 3.49,\n",
    "        \"grapes\": 1.99\n",
    "    }\n",
    "    \n",
    "}"
   ]
  },
  {
   "cell_type": "markdown",
   "id": "d3fddae2",
   "metadata": {},
   "source": [
    "#### import statistics"
   ]
  },
  {
   "cell_type": "code",
   "execution_count": null,
   "id": "6e8b56b7",
   "metadata": {},
   "outputs": [],
   "source": []
  },
  {
   "cell_type": "markdown",
   "id": "e958bb5f",
   "metadata": {},
   "source": [
    "#### write data in spreadsheet"
   ]
  },
  {
   "cell_type": "code",
   "execution_count": null,
   "id": "f1ed7aab",
   "metadata": {},
   "outputs": [],
   "source": [
    "# new workbook\n",
    "\n",
    "\n",
    "# get access to active sheet\n",
    "\n",
    "\n",
    "# set title \n",
    "\n",
    "\n",
    "# set headline\n",
    "\n",
    "\n",
    "# append headlines\n",
    "\n",
    "\n",
    "# append data\n",
    "  \n",
    "\n",
    "# save workbook \n",
    "\n",
    "\n",
    "# Average price for each fruit\n"
   ]
  },
  {
   "cell_type": "code",
   "execution_count": null,
   "id": "edad2df5",
   "metadata": {},
   "outputs": [],
   "source": []
  },
  {
   "cell_type": "code",
   "execution_count": null,
   "id": "a8a135cb",
   "metadata": {},
   "outputs": [],
   "source": []
  },
  {
   "cell_type": "code",
   "execution_count": null,
   "id": "a1c43bd8",
   "metadata": {},
   "outputs": [],
   "source": []
  },
  {
   "cell_type": "code",
   "execution_count": null,
   "id": "6afb9043",
   "metadata": {},
   "outputs": [],
   "source": []
  }
 ],
 "metadata": {
  "kernelspec": {
   "display_name": "Python 3 (ipykernel)",
   "language": "python",
   "name": "python3"
  },
  "language_info": {
   "codemirror_mode": {
    "name": "ipython",
    "version": 3
   },
   "file_extension": ".py",
   "mimetype": "text/x-python",
   "name": "python",
   "nbconvert_exporter": "python",
   "pygments_lexer": "ipython3",
   "version": "3.10.2"
  }
 },
 "nbformat": 4,
 "nbformat_minor": 5
}
