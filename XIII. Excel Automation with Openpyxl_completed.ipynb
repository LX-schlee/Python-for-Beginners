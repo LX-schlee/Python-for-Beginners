{
 "cells": [
  {
   "cell_type": "markdown",
   "id": "1eff70cf",
   "metadata": {},
   "source": [
    "#### import openpyxl"
   ]
  },
  {
   "cell_type": "code",
   "execution_count": 2,
   "id": "88f12884",
   "metadata": {},
   "outputs": [],
   "source": [
    "import openpyxl"
   ]
  },
  {
   "cell_type": "markdown",
   "id": "0af043d5",
   "metadata": {},
   "source": [
    "#### open existing workbook"
   ]
  },
  {
   "cell_type": "code",
   "execution_count": 3,
   "id": "fa7e2a22",
   "metadata": {},
   "outputs": [],
   "source": [
    "excel_file = openpyxl.load_workbook('workbook.xlsx') "
   ]
  },
  {
   "cell_type": "markdown",
   "id": "84935c0d",
   "metadata": {},
   "source": [
    "#### get access to the active sheet"
   ]
  },
  {
   "cell_type": "code",
   "execution_count": 4,
   "id": "a16325c7",
   "metadata": {},
   "outputs": [
    {
     "name": "stdout",
     "output_type": "stream",
     "text": [
      "<Worksheet \"FirstSheet\">\n"
     ]
    }
   ],
   "source": [
    "current_sheet = excel_file.active\n",
    "print(current_sheet)"
   ]
  },
  {
   "cell_type": "markdown",
   "id": "b8355b44",
   "metadata": {},
   "source": [
    "#### get access to specific cell"
   ]
  },
  {
   "cell_type": "code",
   "execution_count": 52,
   "id": "f28611dc",
   "metadata": {},
   "outputs": [],
   "source": [
    "cell_value = current_sheet['B2'].value\n",
    "print(cell_value)"
   ]
  },
  {
   "cell_type": "markdown",
   "id": "9eb4133b",
   "metadata": {},
   "source": [
    "#### set cell value"
   ]
  },
  {
   "cell_type": "code",
   "execution_count": 29,
   "id": "ed44295e",
   "metadata": {},
   "outputs": [],
   "source": [
    "current_sheet['B2'] = 10"
   ]
  },
  {
   "cell_type": "code",
   "execution_count": 34,
   "id": "db143702",
   "metadata": {},
   "outputs": [],
   "source": [
    "current_sheet['D1'] = \"Total Amount\""
   ]
  },
  {
   "cell_type": "code",
   "execution_count": 38,
   "id": "b3f790b5",
   "metadata": {},
   "outputs": [],
   "source": [
    "current_sheet['D4'] = \"=B4*C4\""
   ]
  },
  {
   "cell_type": "markdown",
   "id": "a0092475",
   "metadata": {},
   "source": [
    "#### set sheet name"
   ]
  },
  {
   "cell_type": "code",
   "execution_count": 40,
   "id": "7ddd5006",
   "metadata": {},
   "outputs": [],
   "source": [
    "current_sheet.title = \"FirstSheet\""
   ]
  },
  {
   "cell_type": "markdown",
   "id": "0a1c5402",
   "metadata": {},
   "source": [
    "#### save workbook"
   ]
  },
  {
   "cell_type": "code",
   "execution_count": 62,
   "id": "1dfd60fa",
   "metadata": {},
   "outputs": [],
   "source": [
    "excel_file.save('workbook.xlsx')"
   ]
  },
  {
   "cell_type": "markdown",
   "id": "c23c1ee4",
   "metadata": {},
   "source": [
    "#### create second sheet"
   ]
  },
  {
   "cell_type": "code",
   "execution_count": 41,
   "id": "1ce5f9b7",
   "metadata": {},
   "outputs": [
    {
     "data": {
      "text/plain": [
       "<Worksheet \"SecondSheet\">"
      ]
     },
     "execution_count": 41,
     "metadata": {},
     "output_type": "execute_result"
    }
   ],
   "source": [
    "excel_file.create_sheet(\"SecondSheet\")"
   ]
  },
  {
   "cell_type": "markdown",
   "id": "8d4a9a43",
   "metadata": {},
   "source": [
    "#### print all of the sheets"
   ]
  },
  {
   "cell_type": "code",
   "execution_count": 5,
   "id": "d952889e",
   "metadata": {},
   "outputs": [
    {
     "name": "stdout",
     "output_type": "stream",
     "text": [
      "['FirstSheet', 'SecondSheet']\n"
     ]
    }
   ],
   "source": [
    "print(excel_file.sheetnames)"
   ]
  },
  {
   "cell_type": "markdown",
   "id": "bbd41e11",
   "metadata": {},
   "source": [
    "#### set values to second sheet"
   ]
  },
  {
   "cell_type": "code",
   "execution_count": 43,
   "id": "c8916123",
   "metadata": {},
   "outputs": [],
   "source": [
    "sheet2 = excel_file[\"SecondSheet\"]\n",
    "sheet2['A1'] = \"First Entry\""
   ]
  },
  {
   "cell_type": "markdown",
   "id": "18ff8c9d",
   "metadata": {},
   "source": [
    "#### create new excel file"
   ]
  },
  {
   "cell_type": "code",
   "execution_count": null,
   "id": "39d5741c",
   "metadata": {},
   "outputs": [],
   "source": [
    "new_excel_file = openpyxl.Workbook()"
   ]
  },
  {
   "cell_type": "markdown",
   "id": "f0d4a4f0",
   "metadata": {},
   "source": [
    "#### set values to new excel file"
   ]
  },
  {
   "cell_type": "code",
   "execution_count": 47,
   "id": "50c408d0",
   "metadata": {},
   "outputs": [],
   "source": [
    "# get access to active sheet\n",
    "current_sheet = new_excel_file.active\n",
    "\n",
    "# set sheet title\n",
    "current_sheet.title = \"Numbers\"\n",
    "\n",
    "# set values\n",
    "current_sheet['A1'] = 10\n",
    "current_sheet['B1'] = 100\n",
    "current_sheet['C1'] = 1000\n",
    "\n",
    "current_sheet['A2'] = 10\n",
    "current_sheet['B2'] = 100\n",
    "current_sheet['C2'] = 1000\n",
    "\n",
    "current_sheet['A3'] = 10\n",
    "current_sheet['B3'] = 100\n",
    "current_sheet['C3'] = 1000\n",
    "\n",
    "# option 2 - append rows\n",
    "current_sheet.append([10,100,1000])\n",
    "current_sheet.append([10,100,1000])\n",
    "current_sheet.append([10,100,1000])\n",
    "current_sheet.append([10,100,1000])\n",
    "\n",
    "# save the excel file\n",
    "new_excel_file.save('new_excel_file.xlsx')"
   ]
  },
  {
   "cell_type": "markdown",
   "id": "f267bf43",
   "metadata": {},
   "source": [
    "#### insert rows"
   ]
  },
  {
   "cell_type": "code",
   "execution_count": 48,
   "id": "3d12c9d3",
   "metadata": {},
   "outputs": [],
   "source": [
    "# insert new row\n",
    "current_sheet.insert_rows(1)"
   ]
  },
  {
   "cell_type": "markdown",
   "id": "8943a8c1",
   "metadata": {},
   "source": [
    "#### insert new column"
   ]
  },
  {
   "cell_type": "code",
   "execution_count": null,
   "id": "23c5d7a8",
   "metadata": {},
   "outputs": [],
   "source": [
    "current_sheet.insert_cols(2, amount=2)"
   ]
  },
  {
   "cell_type": "markdown",
   "id": "f843949d",
   "metadata": {},
   "source": [
    "#### multiplication for range of cells - prüfen und ggfs. überarbeiten"
   ]
  },
  {
   "cell_type": "code",
   "execution_count": 61,
   "id": "33b6473a",
   "metadata": {},
   "outputs": [],
   "source": [
    "for row in range(2, 22):\n",
    "    b_value = current_sheet.cell(row=row, column=2).value\n",
    "    c_value = current_sheet.cell(row=row, column=3).value\n",
    "    d_value = b_value * c_value\n",
    "    current_sheet.cell(row=row, column=4).value = d_value"
   ]
  },
  {
   "cell_type": "code",
   "execution_count": 63,
   "id": "93592af0",
   "metadata": {},
   "outputs": [],
   "source": []
  },
  {
   "cell_type": "markdown",
   "id": "d1d7972e",
   "metadata": {},
   "source": [
    "### Exercise"
   ]
  },
  {
   "cell_type": "code",
   "execution_count": 6,
   "id": "38f449e3",
   "metadata": {},
   "outputs": [],
   "source": [
    "# dictionary\n",
    "fruit_prices = {\n",
    "    \n",
    "    \"Rewe\": {\n",
    "        \"apple\": 1.19,\n",
    "        \"watermelon\": 3.99,\n",
    "        \"pineapple\": 4.29,\n",
    "        \"grapes\": 2.49        \n",
    "    },\n",
    "    \n",
    "    \"Lidl\": {\n",
    "        \"apple\": 0.89,\n",
    "        \"watermelon\": 3.49,\n",
    "        \"pineapple\": 3.99,\n",
    "        \"grapes\": 2.19\n",
    "    },\n",
    "    \n",
    "    \"Netto\": {\n",
    "        \"apple\": 1.49,\n",
    "        \"watermelon\": 4.49,\n",
    "        \"pineapple\": 3.49,\n",
    "        \"grapes\": 1.99\n",
    "    }\n",
    "    \n",
    "}"
   ]
  },
  {
   "cell_type": "markdown",
   "id": "d3fddae2",
   "metadata": {},
   "source": [
    "#### import statistics"
   ]
  },
  {
   "cell_type": "code",
   "execution_count": 25,
   "id": "6e8b56b7",
   "metadata": {},
   "outputs": [],
   "source": [
    "import statistics"
   ]
  },
  {
   "cell_type": "markdown",
   "id": "e958bb5f",
   "metadata": {},
   "source": [
    "#### write data in spreadsheet"
   ]
  },
  {
   "cell_type": "code",
   "execution_count": 34,
   "id": "f1ed7aab",
   "metadata": {},
   "outputs": [
    {
     "name": "stdout",
     "output_type": "stream",
     "text": [
      "The average price for apple is 1.19 EUR\n",
      "The average price for watermelon is 3.99 EUR\n",
      "The average price for pineapple is 3.92 EUR\n",
      "The average price for grapes is 2.22 EUR\n"
     ]
    }
   ],
   "source": [
    "# new workbook\n",
    "fruit_excel = openpyxl.Workbook()\n",
    "\n",
    "# get access to active sheet\n",
    "worksheet = fruit_excel.active\n",
    "\n",
    "# set title \n",
    "worksheet.title = \"Fruits\"\n",
    "\n",
    "# set headline\n",
    "headline = ['Fruit'] + list(fruit_prices['Rewe'].keys())\n",
    "\n",
    "# append headlines\n",
    "worksheet.append(headline)\n",
    "\n",
    "# append data\n",
    "for fruits in fruit_prices:\n",
    "    price_list = list(fruit_prices[fruits].values())\n",
    "    worksheet.append([fruits] + price_list)   \n",
    "\n",
    "# save workbook \n",
    "fruit_excel.save(\"fruit_prices.xlsx\")\n",
    "\n",
    "# Average price for each fruit\n",
    "for fruit in fruit_prices[\"Rewe\"]:\n",
    "    prices = [fruit_prices[store][fruit] for store in fruit_prices]\n",
    "    avg_price = statistics.mean(prices)\n",
    "    print(\"The average price for {} is {:.2f} EUR\".format(fruit, avg_price)) # two decimal places\n",
    "    # zeigen wie hässlich das aussehen würde ohne 2 decimal places\n",
    "    # print(f\"The average price for {fruit} is {avg_price} EUR\")"
   ]
  },
  {
   "cell_type": "code",
   "execution_count": null,
   "id": "edad2df5",
   "metadata": {},
   "outputs": [],
   "source": []
  },
  {
   "cell_type": "code",
   "execution_count": null,
   "id": "a8a135cb",
   "metadata": {},
   "outputs": [],
   "source": []
  },
  {
   "cell_type": "code",
   "execution_count": null,
   "id": "a1c43bd8",
   "metadata": {},
   "outputs": [],
   "source": []
  },
  {
   "cell_type": "code",
   "execution_count": null,
   "id": "6afb9043",
   "metadata": {},
   "outputs": [],
   "source": []
  }
 ],
 "metadata": {
  "kernelspec": {
   "display_name": "Python 3 (ipykernel)",
   "language": "python",
   "name": "python3"
  },
  "language_info": {
   "codemirror_mode": {
    "name": "ipython",
    "version": 3
   },
   "file_extension": ".py",
   "mimetype": "text/x-python",
   "name": "python",
   "nbconvert_exporter": "python",
   "pygments_lexer": "ipython3",
   "version": "3.10.2"
  }
 },
 "nbformat": 4,
 "nbformat_minor": 5
}
