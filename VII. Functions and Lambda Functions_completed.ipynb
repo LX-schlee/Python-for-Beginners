{
 "cells": [
  {
   "cell_type": "markdown",
   "id": "2c128de0",
   "metadata": {},
   "source": [
    "## VII Functions "
   ]
  },
  {
   "cell_type": "markdown",
   "id": "9124c2f9",
   "metadata": {},
   "source": [
    "Functions are reusable blocks of code. You can pass arguments to functions and it will return a value once the function is called. In Python, the \"def\" keyword is used to define a function, followed by the name of the function"
   ]
  },
  {
   "cell_type": "markdown",
   "id": "99a0f0a6",
   "metadata": {},
   "source": [
    "#### Example 1"
   ]
  },
  {
   "cell_type": "code",
   "execution_count": 2,
   "id": "e5a71576",
   "metadata": {},
   "outputs": [],
   "source": [
    "# define a function with one argument\n",
    "def residence(city):\n",
    "    # This function is used to tell where a person comes from\n",
    "    print(\"Hi, I am from \" + city)"
   ]
  },
  {
   "cell_type": "code",
   "execution_count": 3,
   "id": "cbcf4b03",
   "metadata": {},
   "outputs": [
    {
     "name": "stdout",
     "output_type": "stream",
     "text": [
      "Hi, I am from Hamburg\n"
     ]
    }
   ],
   "source": [
    "# call function\n",
    "residence(\"Hamburg\")"
   ]
  },
  {
   "cell_type": "code",
   "execution_count": null,
   "id": "1a4ec133",
   "metadata": {},
   "outputs": [],
   "source": []
  },
  {
   "cell_type": "markdown",
   "id": "86fbf469",
   "metadata": {},
   "source": [
    "#### Example 2"
   ]
  },
  {
   "cell_type": "code",
   "execution_count": 4,
   "id": "e095ad91",
   "metadata": {},
   "outputs": [],
   "source": [
    "# define a function with two arguments\n",
    "def name_and_residence(name, city):\n",
    "    # This function is used to tell someone your name and where you come from\n",
    "    print(\"Hi, my name is \" + name + \" and I live in \"+ city + \". It is very nice to meet you\")"
   ]
  },
  {
   "cell_type": "code",
   "execution_count": 5,
   "id": "5f469afe",
   "metadata": {},
   "outputs": [
    {
     "name": "stdout",
     "output_type": "stream",
     "text": [
      "Hi, my name is George and I live in Helsinki. It is very nice to meet you\n"
     ]
    }
   ],
   "source": [
    "# call function\n",
    "name_and_residence(\"George\", \"Helsinki\")"
   ]
  },
  {
   "cell_type": "code",
   "execution_count": null,
   "id": "ac4ac0bd",
   "metadata": {},
   "outputs": [],
   "source": []
  },
  {
   "cell_type": "markdown",
   "id": "7b714a77",
   "metadata": {},
   "source": [
    "#### Example 3"
   ]
  },
  {
   "cell_type": "code",
   "execution_count": 6,
   "id": "6fff390c",
   "metadata": {},
   "outputs": [
    {
     "name": "stdout",
     "output_type": "stream",
     "text": [
      "30\n"
     ]
    }
   ],
   "source": [
    "# Return value \n",
    "def multiplier(number1, number2):\n",
    "    total = number1*number2\n",
    "    return total\n",
    "\n",
    "new_variable = multiplier(5,6)\n",
    "print(new_variable)"
   ]
  },
  {
   "cell_type": "code",
   "execution_count": null,
   "id": "2cbfe142",
   "metadata": {},
   "outputs": [],
   "source": []
  },
  {
   "cell_type": "markdown",
   "id": "2d1ad979",
   "metadata": {},
   "source": [
    "#### Example 4"
   ]
  },
  {
   "cell_type": "code",
   "execution_count": 16,
   "id": "dc206048",
   "metadata": {},
   "outputs": [
    {
     "name": "stdout",
     "output_type": "stream",
     "text": [
      "My favorite animal is a lion\n"
     ]
    }
   ],
   "source": [
    "# Working with default values\n",
    "def my_favorite_animal(animal='lion'):\n",
    "    print('My favorite animal is a ' + animal)\n",
    "\n",
    "my_favorite_animal()\n",
    "    "
   ]
  },
  {
   "cell_type": "code",
   "execution_count": null,
   "id": "bbaecc2d",
   "metadata": {},
   "outputs": [],
   "source": []
  },
  {
   "cell_type": "code",
   "execution_count": 17,
   "id": "be8f37ef",
   "metadata": {},
   "outputs": [],
   "source": [
    "def plus(a,b):\n",
    "    return a+b"
   ]
  },
  {
   "cell_type": "code",
   "execution_count": 18,
   "id": "f79d8204",
   "metadata": {},
   "outputs": [
    {
     "data": {
      "text/plain": [
       "3"
      ]
     },
     "execution_count": 18,
     "metadata": {},
     "output_type": "execute_result"
    }
   ],
   "source": [
    "plus(1,2)"
   ]
  },
  {
   "cell_type": "code",
   "execution_count": null,
   "id": "36b03f52",
   "metadata": {},
   "outputs": [],
   "source": []
  },
  {
   "cell_type": "markdown",
   "id": "73fc4f5a",
   "metadata": {},
   "source": [
    "#### Example 5"
   ]
  },
  {
   "cell_type": "code",
   "execution_count": null,
   "id": "d6d25001",
   "metadata": {},
   "outputs": [],
   "source": [
    "# return odd numbers in a list"
   ]
  },
  {
   "cell_type": "code",
   "execution_count": 29,
   "id": "14887abf",
   "metadata": {},
   "outputs": [],
   "source": [
    "def just_return_odd_numbers(numbers_given):\n",
    "    # empty list\n",
    "    odd_numbers = []\n",
    "    \n",
    "    for number in numbers_given:\n",
    "        if number % 2 ==1:\n",
    "            odd_numbers.append(number)\n",
    "        else:\n",
    "            pass\n",
    "    \n",
    "    print(\"Here are your numbers \", odd_numbers)"
   ]
  },
  {
   "cell_type": "code",
   "execution_count": 30,
   "id": "f13175e5",
   "metadata": {},
   "outputs": [
    {
     "name": "stdout",
     "output_type": "stream",
     "text": [
      "Here are your numbers  [1, 3, 5]\n"
     ]
    }
   ],
   "source": [
    "just_return_odd_numbers([1,2,3,4,5])"
   ]
  },
  {
   "cell_type": "code",
   "execution_count": null,
   "id": "8ccf0916",
   "metadata": {},
   "outputs": [],
   "source": []
  },
  {
   "cell_type": "markdown",
   "id": "d0100459",
   "metadata": {},
   "source": [
    "## VIII. Lambda Functions"
   ]
  },
  {
   "cell_type": "markdown",
   "id": "fb32c898",
   "metadata": {},
   "source": [
    "Anonymous functions which can be defined in a single line of code (used for one line expressions). It can have different number of arguments (before column), but only one expression (after column)\n",
    "#### Syntax: \"lambda arguments: expression\""
   ]
  },
  {
   "cell_type": "code",
   "execution_count": 37,
   "id": "fa73751b",
   "metadata": {},
   "outputs": [
    {
     "name": "stdout",
     "output_type": "stream",
     "text": [
      "17\n"
     ]
    }
   ],
   "source": [
    "# lambda function with a single argument (add 7 to a given argument)\n",
    "new_sum = lambda x: x+7\n",
    "\n",
    "print(new_sum(10))"
   ]
  },
  {
   "cell_type": "code",
   "execution_count": 38,
   "id": "74366aa7",
   "metadata": {},
   "outputs": [
    {
     "name": "stdout",
     "output_type": "stream",
     "text": [
      "10.0\n"
     ]
    }
   ],
   "source": [
    "# lambda function with multiple arguments (calculate average of three numbers)\n",
    "average_number = lambda a,b,c: (a+b+c) / 3\n",
    "\n",
    "result = average_number(5,10,15)\n",
    "print(result)"
   ]
  },
  {
   "cell_type": "code",
   "execution_count": 46,
   "id": "d549fc84",
   "metadata": {},
   "outputs": [
    {
     "name": "stdout",
     "output_type": "stream",
     "text": [
      "[1, 4, 9, 16, 25, 36, 49, 64, 81, 100]\n"
     ]
    }
   ],
   "source": [
    "# Map- function to square numbers in a given list \n",
    "numbers = [1,2,3,4,5,6,7,8,9,10]\n",
    "\n",
    "squared_numbers = list(map(lambda x: x**2, numbers))\n",
    "\n",
    "print(squared_numbers)"
   ]
  },
  {
   "cell_type": "code",
   "execution_count": 49,
   "id": "c48f5132",
   "metadata": {},
   "outputs": [
    {
     "name": "stdout",
     "output_type": "stream",
     "text": [
      "[1, 3, 5, 7, 9]\n"
     ]
    }
   ],
   "source": [
    "# Filter function to filter out the odd numbers\n",
    "odd_numbers = filter(lambda x: x%2 ==1, numbers)\n",
    "\n",
    "print(list(odd_numbers))"
   ]
  },
  {
   "cell_type": "code",
   "execution_count": null,
   "id": "18b490a0",
   "metadata": {},
   "outputs": [],
   "source": []
  }
 ],
 "metadata": {
  "kernelspec": {
   "display_name": "Python 3 (ipykernel)",
   "language": "python",
   "name": "python3"
  },
  "language_info": {
   "codemirror_mode": {
    "name": "ipython",
    "version": 3
   },
   "file_extension": ".py",
   "mimetype": "text/x-python",
   "name": "python",
   "nbconvert_exporter": "python",
   "pygments_lexer": "ipython3",
   "version": "3.10.2"
  }
 },
 "nbformat": 4,
 "nbformat_minor": 5
}
