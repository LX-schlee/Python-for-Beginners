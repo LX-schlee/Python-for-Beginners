{
 "cells": [
  {
   "cell_type": "markdown",
   "id": "975f718a",
   "metadata": {},
   "source": [
    "## IV. Conditionals"
   ]
  },
  {
   "cell_type": "markdown",
   "id": "964dcb7c",
   "metadata": {},
   "source": [
    "### Conditional statements are used to execute code based on whether a certain condition is true or false"
   ]
  },
  {
   "cell_type": "markdown",
   "id": "eb66cceb",
   "metadata": {},
   "source": [
    "#### Simple If Statements"
   ]
  },
  {
   "cell_type": "code",
   "execution_count": 3,
   "id": "b9f07be3",
   "metadata": {},
   "outputs": [],
   "source": [
    "# Variable Assignment\n",
    "a = 100"
   ]
  },
  {
   "cell_type": "code",
   "execution_count": 4,
   "id": "c50868fe",
   "metadata": {},
   "outputs": [
    {
     "name": "stdout",
     "output_type": "stream",
     "text": [
      "a is greater than 50\n"
     ]
    }
   ],
   "source": [
    "# Example 1\n",
    "if a > 50:\n",
    "    print(\"a is greater than 50\")"
   ]
  },
  {
   "cell_type": "code",
   "execution_count": 6,
   "id": "d3687d2a",
   "metadata": {},
   "outputs": [],
   "source": [
    "# Example 2\n",
    "if a < 75:\n",
    "    print(\"This is correct\")"
   ]
  },
  {
   "cell_type": "markdown",
   "id": "da82a3fa",
   "metadata": {},
   "source": [
    "#### If-Else Statements"
   ]
  },
  {
   "cell_type": "code",
   "execution_count": 28,
   "id": "0bffd1e6",
   "metadata": {},
   "outputs": [],
   "source": [
    "# Variable Assignment\n",
    "b = 200\n",
    "animal_list = [\"Elephant\", \"Frog\", \"Crocodile\"]"
   ]
  },
  {
   "cell_type": "code",
   "execution_count": 9,
   "id": "b98bd1c1",
   "metadata": {},
   "outputs": [
    {
     "name": "stdout",
     "output_type": "stream",
     "text": [
      "b is greater than 100\n"
     ]
    }
   ],
   "source": [
    "# Example 1\n",
    "if b > 100:\n",
    "    print(\"b is greater than 100\")\n",
    "else:\n",
    "    print(\"b is less or equal to 100\")"
   ]
  },
  {
   "cell_type": "code",
   "execution_count": 10,
   "id": "99da69f0",
   "metadata": {},
   "outputs": [
    {
     "name": "stdout",
     "output_type": "stream",
     "text": [
      "b is greater or equal to 50\n"
     ]
    }
   ],
   "source": [
    "# Example 2\n",
    "if b < 50:\n",
    "    print(\"b is less than 50\")\n",
    "else:\n",
    "    print(\"b is greater or equal to 50\")"
   ]
  },
  {
   "cell_type": "code",
   "execution_count": 29,
   "id": "207065bf",
   "metadata": {},
   "outputs": [
    {
     "name": "stdout",
     "output_type": "stream",
     "text": [
      "This animal is part of the list\n"
     ]
    }
   ],
   "source": [
    "# Example 3\n",
    "if \"Elephant\" in animal_list:\n",
    "    print(\"This animal is part of the list\")\n",
    "else:\n",
    "    print(\"No results for your search\")"
   ]
  },
  {
   "cell_type": "markdown",
   "id": "fd6d8df6",
   "metadata": {},
   "source": [
    "#### If-Elif-Else Statement"
   ]
  },
  {
   "cell_type": "code",
   "execution_count": 26,
   "id": "3f0cf9cf",
   "metadata": {},
   "outputs": [],
   "source": [
    "# Variable Assignment\n",
    "x = 10\n",
    "car = \"BMW\""
   ]
  },
  {
   "cell_type": "code",
   "execution_count": 18,
   "id": "27201aee",
   "metadata": {},
   "outputs": [
    {
     "name": "stdout",
     "output_type": "stream",
     "text": [
      "10 equals 10\n"
     ]
    }
   ],
   "source": [
    "# Example 1\n",
    "if x > 10:\n",
    "    print(f\"{x} is greater than 50\")\n",
    "elif x == 10:\n",
    "    print(f\"{x} equals 10\")\n",
    "else:\n",
    "    print(f\"{x} is less than 10\")"
   ]
  },
  {
   "cell_type": "code",
   "execution_count": 27,
   "id": "ee264211",
   "metadata": {},
   "outputs": [
    {
     "name": "stdout",
     "output_type": "stream",
     "text": [
      "Give me the BMW\n"
     ]
    }
   ],
   "source": [
    "# Example 2\n",
    "if car == \"Mercedes\":\n",
    "    print(\"I love the Benz\")\n",
    "elif car == \"Toyota\":\n",
    "    print(\"I want the Toyota\")\n",
    "elif car == \"BMW\":\n",
    "    print(\"Give me the BMW\")\n",
    "else:\n",
    "    print(\"I will take the Train\")"
   ]
  },
  {
   "cell_type": "markdown",
   "id": "76c64880",
   "metadata": {},
   "source": [
    "#### Nested If Statements"
   ]
  },
  {
   "cell_type": "code",
   "execution_count": 31,
   "id": "2b00571b",
   "metadata": {},
   "outputs": [],
   "source": [
    "# Variable Assignment\n",
    "d = 30"
   ]
  },
  {
   "cell_type": "code",
   "execution_count": 32,
   "id": "c63b654f",
   "metadata": {},
   "outputs": [
    {
     "name": "stdout",
     "output_type": "stream",
     "text": [
      "d is greater than 20\n",
      "d is greater than 20 and less than 40\n"
     ]
    }
   ],
   "source": [
    "if d > 20:\n",
    "    print(\"d is greater than 20\")\n",
    "    if d > 40:\n",
    "        print(\"d is also greater than 40\")\n",
    "    else:\n",
    "        print(\"d is greater than 20 and less than 40\")"
   ]
  },
  {
   "cell_type": "code",
   "execution_count": null,
   "id": "b49d676b",
   "metadata": {},
   "outputs": [],
   "source": []
  }
 ],
 "metadata": {
  "kernelspec": {
   "display_name": "Python 3 (ipykernel)",
   "language": "python",
   "name": "python3"
  },
  "language_info": {
   "codemirror_mode": {
    "name": "ipython",
    "version": 3
   },
   "file_extension": ".py",
   "mimetype": "text/x-python",
   "name": "python",
   "nbconvert_exporter": "python",
   "pygments_lexer": "ipython3",
   "version": "3.10.2"
  }
 },
 "nbformat": 4,
 "nbformat_minor": 5
}
