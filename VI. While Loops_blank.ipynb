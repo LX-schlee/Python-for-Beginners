{
 "cells": [
  {
   "cell_type": "markdown",
   "id": "ea18534f",
   "metadata": {},
   "source": [
    "## VI. While Loops"
   ]
  },
  {
   "cell_type": "markdown",
   "id": "4ba49b64",
   "metadata": {},
   "source": [
    "Control flow statement that allows code to be executed as long as a condition is \"True\". The condition itself is a Boolean expression that is evaluated at the beginning of each iteration of the loop. If the condition is \"True\", the code block inside the loop is executed. After the code block execution, the condition is evaluated again, and the loop continues until the Condition is \"False\""
   ]
  },
  {
   "cell_type": "code",
   "execution_count": null,
   "id": "6e3a91b0",
   "metadata": {},
   "outputs": [],
   "source": []
  },
  {
   "cell_type": "markdown",
   "id": "c7e46932",
   "metadata": {},
   "source": [
    "#### Simple While Loop"
   ]
  },
  {
   "cell_type": "code",
   "execution_count": null,
   "id": "5534f228",
   "metadata": {},
   "outputs": [],
   "source": [
    "# Example 1\n"
   ]
  },
  {
   "cell_type": "code",
   "execution_count": null,
   "id": "2f53f1a6",
   "metadata": {},
   "outputs": [],
   "source": [
    "# Example 2 - Printing the first n even numbers\n"
   ]
  },
  {
   "cell_type": "markdown",
   "id": "77423196",
   "metadata": {},
   "source": [
    "#### While Loop with User Input and Break-Statement"
   ]
  },
  {
   "cell_type": "code",
   "execution_count": null,
   "id": "001fc8d9",
   "metadata": {},
   "outputs": [],
   "source": [
    "# The User has to guess the special number. If the guess equals the special number, the While-Loop will be left using the break statement\n"
   ]
  },
  {
   "cell_type": "code",
   "execution_count": null,
   "id": "71e5ccd5",
   "metadata": {},
   "outputs": [],
   "source": []
  },
  {
   "cell_type": "markdown",
   "id": "ce5e6441",
   "metadata": {},
   "source": [
    "### break, continue, pass"
   ]
  },
  {
   "cell_type": "markdown",
   "id": "4700d5a3",
   "metadata": {},
   "source": [
    "In Python, you can use \"break\", \"continue\" and \"pass\" as control statements to control the flow of a loop or conditional statement\n",
    "\n",
    "- break: exits a loop if a certain condition is met\n",
    "- continue: skips over a certain iteration of a loop if a certain condition is met\n",
    "- pass: placeholder statement which tells to do nothing - useful as placeholder for code which hasn't been written yet"
   ]
  },
  {
   "cell_type": "markdown",
   "id": "f0497941",
   "metadata": {},
   "source": [
    "#### break"
   ]
  },
  {
   "cell_type": "code",
   "execution_count": null,
   "id": "c55e73aa",
   "metadata": {},
   "outputs": [],
   "source": []
  },
  {
   "cell_type": "markdown",
   "id": "8153d5ba",
   "metadata": {},
   "source": [
    "#### continue"
   ]
  },
  {
   "cell_type": "code",
   "execution_count": null,
   "id": "7885cb2d",
   "metadata": {},
   "outputs": [],
   "source": []
  },
  {
   "cell_type": "markdown",
   "id": "052c4137",
   "metadata": {},
   "source": [
    "#### pass"
   ]
  },
  {
   "cell_type": "code",
   "execution_count": null,
   "id": "4199c741",
   "metadata": {},
   "outputs": [],
   "source": []
  },
  {
   "cell_type": "code",
   "execution_count": null,
   "id": "cd0dd464",
   "metadata": {},
   "outputs": [],
   "source": []
  }
 ],
 "metadata": {
  "kernelspec": {
   "display_name": "Python 3 (ipykernel)",
   "language": "python",
   "name": "python3"
  },
  "language_info": {
   "codemirror_mode": {
    "name": "ipython",
    "version": 3
   },
   "file_extension": ".py",
   "mimetype": "text/x-python",
   "name": "python",
   "nbconvert_exporter": "python",
   "pygments_lexer": "ipython3",
   "version": "3.10.2"
  }
 },
 "nbformat": 4,
 "nbformat_minor": 5
}
