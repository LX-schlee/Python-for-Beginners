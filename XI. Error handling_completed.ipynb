{
 "cells": [
  {
   "cell_type": "code",
   "execution_count": 2,
   "id": "a8ba103a",
   "metadata": {},
   "outputs": [],
   "source": [
    "#try:\n",
    "    # code block that may raise an exception\n",
    "    \n",
    "#except <ExceptionType>:\n",
    "    # code block that runs if the specified exception occurs\n",
    "    \n",
    "#else:\n",
    "    # optional code block that runs if no exceptions occur in the try block\n",
    "    \n",
    "#finally:\n",
    "    # optional code block that runs regardless of whether an exception occurred or not"
   ]
  },
  {
   "cell_type": "code",
   "execution_count": null,
   "id": "750b21c9",
   "metadata": {},
   "outputs": [],
   "source": [
    "# https://docs.python.org/3/library/exceptions.html"
   ]
  },
  {
   "cell_type": "code",
   "execution_count": null,
   "id": "8c9f4f1d",
   "metadata": {},
   "outputs": [],
   "source": []
  },
  {
   "cell_type": "markdown",
   "id": "a8f3bacc",
   "metadata": {},
   "source": [
    "#### Example 1 - Simple Try and Except - Statement"
   ]
  },
  {
   "cell_type": "markdown",
   "id": "1c933563",
   "metadata": {},
   "source": [
    "- The try-block is used to enclose a piece of code that may raise an exception or error during the execution\n",
    "- The except-block runs when an exception is raised in the corresponding try-block"
   ]
  },
  {
   "cell_type": "code",
   "execution_count": 3,
   "id": "e645df4b",
   "metadata": {},
   "outputs": [
    {
     "ename": "ZeroDivisionError",
     "evalue": "division by zero",
     "output_type": "error",
     "traceback": [
      "\u001b[1;31m---------------------------------------------------------------------------\u001b[0m",
      "\u001b[1;31mZeroDivisionError\u001b[0m                         Traceback (most recent call last)",
      "Input \u001b[1;32mIn [3]\u001b[0m, in \u001b[0;36m<cell line: 1>\u001b[1;34m()\u001b[0m\n\u001b[1;32m----> 1\u001b[0m \u001b[38;5;28mprint\u001b[39m(\u001b[38;5;241;43m10\u001b[39;49m\u001b[38;5;241;43m/\u001b[39;49m\u001b[38;5;241;43m0\u001b[39;49m)\n",
      "\u001b[1;31mZeroDivisionError\u001b[0m: division by zero"
     ]
    }
   ],
   "source": [
    "# division by zero\n",
    "print(10/0)"
   ]
  },
  {
   "cell_type": "code",
   "execution_count": 9,
   "id": "843bc927",
   "metadata": {},
   "outputs": [
    {
     "name": "stdout",
     "output_type": "stream",
     "text": [
      "Please stop dividing by 0\n"
     ]
    }
   ],
   "source": [
    "try:\n",
    "    print(10/0)\n",
    "except ZeroDivisionError:\n",
    "    print(\"Please stop dividing by 0\")"
   ]
  },
  {
   "cell_type": "code",
   "execution_count": null,
   "id": "ed1bc38c",
   "metadata": {},
   "outputs": [],
   "source": []
  },
  {
   "cell_type": "markdown",
   "id": "f6edec63",
   "metadata": {},
   "source": [
    "#### Example 2 - Multiple Except- Statements"
   ]
  },
  {
   "cell_type": "markdown",
   "id": "ad06da97",
   "metadata": {},
   "source": [
    "- Multiple except blocks are allowed in the try-except statement. Each except-block can handle a specific exception type that my occur in the try-block"
   ]
  },
  {
   "cell_type": "code",
   "execution_count": 14,
   "id": "b3377d46",
   "metadata": {},
   "outputs": [
    {
     "name": "stdout",
     "output_type": "stream",
     "text": [
      "Please stop dividing by 0\n"
     ]
    }
   ],
   "source": [
    "try:\n",
    "    print(10/0)\n",
    "except AttributeError:\n",
    "    print(\"Dividing by zero is not allowed\")\n",
    "except ZeroDivisionError:\n",
    "    print(\"Please stop dividing by 0\")"
   ]
  },
  {
   "cell_type": "code",
   "execution_count": null,
   "id": "d6b88dbf",
   "metadata": {},
   "outputs": [],
   "source": []
  },
  {
   "cell_type": "markdown",
   "id": "76ce9977",
   "metadata": {},
   "source": [
    "#### Example 3 - include the else block"
   ]
  },
  {
   "cell_type": "markdown",
   "id": "9c2017f1",
   "metadata": {},
   "source": [
    "- The else-block gets executed if the try-block does not raise an exception "
   ]
  },
  {
   "cell_type": "code",
   "execution_count": 30,
   "id": "300adadb",
   "metadata": {},
   "outputs": [],
   "source": [
    "def bad_division(a,b):\n",
    "    try:\n",
    "        result = a/b\n",
    "    except ZeroDivisionError:\n",
    "        print(\"Never divide by zero in your life anymore\")\n",
    "    else:\n",
    "        print(result)"
   ]
  },
  {
   "cell_type": "code",
   "execution_count": null,
   "id": "3aa76263",
   "metadata": {},
   "outputs": [],
   "source": []
  },
  {
   "cell_type": "markdown",
   "id": "ec5b631b",
   "metadata": {},
   "source": [
    "#### Example 4 - Finally block"
   ]
  },
  {
   "cell_type": "markdown",
   "id": "d0bfacdd",
   "metadata": {},
   "source": [
    "- The finally-block is optional and runs regardless of whether an exception occured or not"
   ]
  },
  {
   "cell_type": "code",
   "execution_count": 38,
   "id": "c8f6ece4",
   "metadata": {},
   "outputs": [],
   "source": [
    "def very_bad_division(a,b):\n",
    "    try:\n",
    "        result = a/b\n",
    "    except ZeroDivisionError:\n",
    "        print(\"Never divide by zero in your life anymore\")\n",
    "    else:\n",
    "        print(result)\n",
    "    finally:\n",
    "        print(\"I will be printed no matter what happened before\")"
   ]
  },
  {
   "cell_type": "code",
   "execution_count": 39,
   "id": "6a179dc1",
   "metadata": {},
   "outputs": [
    {
     "name": "stdout",
     "output_type": "stream",
     "text": [
      "Never divide by zero in your life anymore\n",
      "I will be printed no matter what happened before\n"
     ]
    }
   ],
   "source": [
    "very_bad_division(10,0)"
   ]
  }
 ],
 "metadata": {
  "kernelspec": {
   "display_name": "Python 3 (ipykernel)",
   "language": "python",
   "name": "python3"
  },
  "language_info": {
   "codemirror_mode": {
    "name": "ipython",
    "version": 3
   },
   "file_extension": ".py",
   "mimetype": "text/x-python",
   "name": "python",
   "nbconvert_exporter": "python",
   "pygments_lexer": "ipython3",
   "version": "3.10.2"
  }
 },
 "nbformat": 4,
 "nbformat_minor": 5
}
