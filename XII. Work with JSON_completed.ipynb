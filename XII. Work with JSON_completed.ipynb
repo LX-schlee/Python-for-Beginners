{
 "cells": [
  {
   "cell_type": "markdown",
   "id": "c5c7fb1f",
   "metadata": {},
   "source": [
    "## JSON"
   ]
  },
  {
   "cell_type": "markdown",
   "id": "e708d3e8",
   "metadata": {},
   "source": [
    "JSON is commonly used for transmitting data between a server and a web application, as well as for storing configuration data and exchanging data between different programming languages. It is often used when we work with APIs. Usually you make a request and receive the data in a JSON format so you can go ahead and work with it."
   ]
  },
  {
   "cell_type": "markdown",
   "id": "d03fee41",
   "metadata": {},
   "source": [
    "- #### In Python, a JSON object is represented as a string"
   ]
  },
  {
   "cell_type": "code",
   "execution_count": 4,
   "id": "0792fcf0",
   "metadata": {},
   "outputs": [],
   "source": [
    "# difference between json and dictionary\n",
    "# https://www.scaler.com/topics/convert-dictionary-to-json-python/"
   ]
  },
  {
   "cell_type": "markdown",
   "id": "735a68ec",
   "metadata": {},
   "source": [
    "#### Import Json"
   ]
  },
  {
   "cell_type": "code",
   "execution_count": 5,
   "id": "52f96c09",
   "metadata": {},
   "outputs": [],
   "source": [
    "import json"
   ]
  },
  {
   "cell_type": "markdown",
   "id": "bb9fad1c",
   "metadata": {},
   "source": [
    "#### simple key-value pairs"
   ]
  },
  {
   "cell_type": "code",
   "execution_count": 6,
   "id": "1f261a33",
   "metadata": {},
   "outputs": [],
   "source": [
    "person_simple = '{\"first_name\":\"Amanda\",\"last_name\":\"Johnson\",\"age\":35,\"city\": \"Munich\"}'"
   ]
  },
  {
   "cell_type": "markdown",
   "id": "884e2a80",
   "metadata": {},
   "source": [
    "#### check the data type"
   ]
  },
  {
   "cell_type": "code",
   "execution_count": 7,
   "id": "743ef8a2",
   "metadata": {},
   "outputs": [
    {
     "data": {
      "text/plain": [
       "str"
      ]
     },
     "execution_count": 7,
     "metadata": {},
     "output_type": "execute_result"
    }
   ],
   "source": [
    "type(person_simple)"
   ]
  },
  {
   "cell_type": "markdown",
   "id": "3147a98e",
   "metadata": {},
   "source": [
    "#### grab the first name"
   ]
  },
  {
   "cell_type": "markdown",
   "id": "00818d21",
   "metadata": {},
   "source": [
    "In Python, a JSON object is represented as a string, so you need to first parse the JSON string using the json.loads() method to convert it to a Python dictionary or list."
   ]
  },
  {
   "cell_type": "markdown",
   "id": "a7275112",
   "metadata": {},
   "source": [
    "#### Deserialize the JSON string to a Python dictionary"
   ]
  },
  {
   "cell_type": "code",
   "execution_count": 8,
   "id": "1d859ec4",
   "metadata": {},
   "outputs": [],
   "source": [
    "person_simple_dict = json.loads(person_simple)"
   ]
  },
  {
   "cell_type": "code",
   "execution_count": 9,
   "id": "b37bce86",
   "metadata": {},
   "outputs": [
    {
     "data": {
      "text/plain": [
       "dict"
      ]
     },
     "execution_count": 9,
     "metadata": {},
     "output_type": "execute_result"
    }
   ],
   "source": [
    "type(person_simple_dict)"
   ]
  },
  {
   "cell_type": "markdown",
   "id": "48e2c105",
   "metadata": {},
   "source": [
    "#### grab the first name"
   ]
  },
  {
   "cell_type": "code",
   "execution_count": 10,
   "id": "e885b04c",
   "metadata": {},
   "outputs": [
    {
     "data": {
      "text/plain": [
       "'Amanda'"
      ]
     },
     "execution_count": 10,
     "metadata": {},
     "output_type": "execute_result"
    }
   ],
   "source": [
    "person_simple_dict[\"first_name\"]"
   ]
  },
  {
   "cell_type": "markdown",
   "id": "7a345f48",
   "metadata": {},
   "source": [
    "#### grab the age"
   ]
  },
  {
   "cell_type": "code",
   "execution_count": 11,
   "id": "fba8df6d",
   "metadata": {},
   "outputs": [
    {
     "data": {
      "text/plain": [
       "35"
      ]
     },
     "execution_count": 11,
     "metadata": {},
     "output_type": "execute_result"
    }
   ],
   "source": [
    "person_simple_dict[\"age\"]"
   ]
  },
  {
   "cell_type": "markdown",
   "id": "596291ab",
   "metadata": {},
   "source": [
    "#### nested key-value pairs"
   ]
  },
  {
   "cell_type": "code",
   "execution_count": 12,
   "id": "56e1eb0c",
   "metadata": {},
   "outputs": [],
   "source": [
    "person_nested = '{\"person\": {\"first_name\":\"Amanda\",\"last_name\":\"Johnson\", \"age\":30, \"city\":\"Munich\"}, \"hobbies\": [\"soccer\", \"snowboarding\",\"cooking\"], \"job\":{\"title\":\"Head of IT\", \"company\":\"Amazon\"}}'"
   ]
  },
  {
   "cell_type": "code",
   "execution_count": 13,
   "id": "7166c0ff",
   "metadata": {},
   "outputs": [
    {
     "data": {
      "text/plain": [
       "str"
      ]
     },
     "execution_count": 13,
     "metadata": {},
     "output_type": "execute_result"
    }
   ],
   "source": [
    "type(person_nested)"
   ]
  },
  {
   "cell_type": "code",
   "execution_count": 14,
   "id": "805980fc",
   "metadata": {},
   "outputs": [
    {
     "data": {
      "text/plain": [
       "'{\"person\": {\"first_name\":\"Amanda\",\"last_name\":\"Johnson\", \"age\":30, \"city\":\"Munich\"}, \"hobbies\": [\"soccer\", \"snowboarding\",\"cooking\"], \"job\":{\"title\":\"Head of IT\", \"company\":\"Amazon\"}}'"
      ]
     },
     "execution_count": 14,
     "metadata": {},
     "output_type": "execute_result"
    }
   ],
   "source": [
    "person_nested"
   ]
  },
  {
   "cell_type": "code",
   "execution_count": 15,
   "id": "c94b77e2",
   "metadata": {},
   "outputs": [],
   "source": [
    "# json formatter"
   ]
  },
  {
   "cell_type": "markdown",
   "id": "a31570c4",
   "metadata": {},
   "source": [
    "#### JSON to Dictionary"
   ]
  },
  {
   "cell_type": "code",
   "execution_count": 16,
   "id": "2d432cc7",
   "metadata": {},
   "outputs": [],
   "source": [
    "person_nested_dict = json.loads(person_nested)"
   ]
  },
  {
   "cell_type": "code",
   "execution_count": 17,
   "id": "d38675c9",
   "metadata": {},
   "outputs": [
    {
     "data": {
      "text/plain": [
       "{'person': {'first_name': 'Amanda',\n",
       "  'last_name': 'Johnson',\n",
       "  'age': 30,\n",
       "  'city': 'Munich'},\n",
       " 'hobbies': ['soccer', 'snowboarding', 'cooking'],\n",
       " 'job': {'title': 'Head of IT', 'company': 'Amazon'}}"
      ]
     },
     "execution_count": 17,
     "metadata": {},
     "output_type": "execute_result"
    }
   ],
   "source": [
    "person_nested_dict"
   ]
  },
  {
   "cell_type": "markdown",
   "id": "e72db245",
   "metadata": {},
   "source": [
    "#### get city"
   ]
  },
  {
   "cell_type": "code",
   "execution_count": 22,
   "id": "d050e895",
   "metadata": {},
   "outputs": [
    {
     "data": {
      "text/plain": [
       "'Munich'"
      ]
     },
     "execution_count": 22,
     "metadata": {},
     "output_type": "execute_result"
    }
   ],
   "source": [
    "person_nested_dict[\"person\"][\"city\"]"
   ]
  },
  {
   "cell_type": "markdown",
   "id": "5b07eabc",
   "metadata": {},
   "source": [
    "#### get second hobby"
   ]
  },
  {
   "cell_type": "code",
   "execution_count": 25,
   "id": "4f2b40bf",
   "metadata": {},
   "outputs": [
    {
     "data": {
      "text/plain": [
       "'snowboarding'"
      ]
     },
     "execution_count": 25,
     "metadata": {},
     "output_type": "execute_result"
    }
   ],
   "source": [
    "person_nested_dict[\"hobbies\"][1]"
   ]
  },
  {
   "cell_type": "markdown",
   "id": "f864869e",
   "metadata": {},
   "source": [
    "#### get job title"
   ]
  },
  {
   "cell_type": "code",
   "execution_count": 28,
   "id": "070d4bbd",
   "metadata": {},
   "outputs": [
    {
     "data": {
      "text/plain": [
       "'Head of IT'"
      ]
     },
     "execution_count": 28,
     "metadata": {},
     "output_type": "execute_result"
    }
   ],
   "source": [
    "person_nested_dict[\"job\"][\"title\"]"
   ]
  },
  {
   "cell_type": "markdown",
   "id": "9525327b",
   "metadata": {},
   "source": [
    "#### Format Dictionary to JSON"
   ]
  },
  {
   "cell_type": "code",
   "execution_count": 29,
   "id": "f1c8a711",
   "metadata": {},
   "outputs": [],
   "source": [
    "person = {\"name\":\"George\", \"age\":45, \"city\":\"Berlin\"}"
   ]
  },
  {
   "cell_type": "code",
   "execution_count": 34,
   "id": "75838b2e",
   "metadata": {},
   "outputs": [
    {
     "data": {
      "text/plain": [
       "dict"
      ]
     },
     "execution_count": 34,
     "metadata": {},
     "output_type": "execute_result"
    }
   ],
   "source": [
    "type(person)"
   ]
  },
  {
   "cell_type": "code",
   "execution_count": 31,
   "id": "ffb67015",
   "metadata": {},
   "outputs": [],
   "source": [
    "person_json = json.dumps(person)"
   ]
  },
  {
   "cell_type": "code",
   "execution_count": 32,
   "id": "c987de24",
   "metadata": {},
   "outputs": [
    {
     "data": {
      "text/plain": [
       "str"
      ]
     },
     "execution_count": 32,
     "metadata": {},
     "output_type": "execute_result"
    }
   ],
   "source": [
    "type(person_json)"
   ]
  },
  {
   "cell_type": "code",
   "execution_count": 33,
   "id": "0f7e74c0",
   "metadata": {},
   "outputs": [
    {
     "name": "stdout",
     "output_type": "stream",
     "text": [
      "{\"name\": \"George\", \"age\": 45, \"city\": \"Berlin\"}\n"
     ]
    }
   ],
   "source": [
    "print(person_json)"
   ]
  },
  {
   "cell_type": "code",
   "execution_count": null,
   "id": "9cf58c41",
   "metadata": {},
   "outputs": [],
   "source": []
  }
 ],
 "metadata": {
  "kernelspec": {
   "display_name": "Python 3 (ipykernel)",
   "language": "python",
   "name": "python3"
  },
  "language_info": {
   "codemirror_mode": {
    "name": "ipython",
    "version": 3
   },
   "file_extension": ".py",
   "mimetype": "text/x-python",
   "name": "python",
   "nbconvert_exporter": "python",
   "pygments_lexer": "ipython3",
   "version": "3.10.2"
  }
 },
 "nbformat": 4,
 "nbformat_minor": 5
}
