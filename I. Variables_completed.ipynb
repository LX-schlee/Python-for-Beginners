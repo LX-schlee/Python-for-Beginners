{
 "cells": [
  {
   "cell_type": "markdown",
   "id": "45557e1e",
   "metadata": {},
   "source": [
    "## I. Variables"
   ]
  },
  {
   "cell_type": "markdown",
   "id": "9124d010",
   "metadata": {},
   "source": [
    "### A variable is a name or a container that refers to a value. It is a way to store data and access it later by referring to the variable name. In Python you choose a variable name and assign it to a value using the equal sign (=)\n",
    "#### Rules:\n",
    "- Variable names must start with a letter or an underscore (digits not allowed!)\n",
    "- Variable names are case sensitive\n",
    "- Python has reserved keywords you can not use (e.g. \"if\", \"else\", \"while\", \"for\", \"def\", \"or\", \"try\", \"except\")\n",
    "- Don't use spaces in variable names, use underscores instead\n",
    "- ..."
   ]
  },
  {
   "cell_type": "markdown",
   "id": "8d7490a0",
   "metadata": {},
   "source": [
    "#### Examples"
   ]
  },
  {
   "cell_type": "code",
   "execution_count": null,
   "id": "43f85dab",
   "metadata": {},
   "outputs": [],
   "source": [
    "# start with small letter\n",
    "variable = 'Hey World'"
   ]
  },
  {
   "cell_type": "code",
   "execution_count": null,
   "id": "ccc78cb5",
   "metadata": {},
   "outputs": [],
   "source": [
    "# small letter and underscore\n",
    "first_variable = 'Hello World'"
   ]
  },
  {
   "cell_type": "code",
   "execution_count": null,
   "id": "a4b59d84",
   "metadata": {},
   "outputs": [],
   "source": [
    "# start with underscore\n",
    "_first_variable = 'Bye World'"
   ]
  },
  {
   "cell_type": "code",
   "execution_count": null,
   "id": "8789050e",
   "metadata": {},
   "outputs": [],
   "source": [
    "# reserved keywords NOT ALLOWED\n",
    "or = 'Hi'"
   ]
  },
  {
   "cell_type": "code",
   "execution_count": null,
   "id": "359efdf5",
   "metadata": {},
   "outputs": [],
   "source": [
    "# Assign multiple variables in one line\n",
    "a,b,c = \"Shark\", \"Toyota\", 40"
   ]
  },
  {
   "cell_type": "code",
   "execution_count": null,
   "id": "7cd28b55",
   "metadata": {},
   "outputs": [],
   "source": [
    "print(a)\n",
    "print(b)\n",
    "print(c)"
   ]
  }
 ],
 "metadata": {
  "kernelspec": {
   "display_name": "Python 3 (ipykernel)",
   "language": "python",
   "name": "python3"
  },
  "language_info": {
   "codemirror_mode": {
    "name": "ipython",
    "version": 3
   },
   "file_extension": ".py",
   "mimetype": "text/x-python",
   "name": "python",
   "nbconvert_exporter": "python",
   "pygments_lexer": "ipython3",
   "version": "3.10.2"
  }
 },
 "nbformat": 4,
 "nbformat_minor": 5
}
