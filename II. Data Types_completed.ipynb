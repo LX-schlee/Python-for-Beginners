{
 "cells": [
  {
   "cell_type": "markdown",
   "id": "3d063499",
   "metadata": {},
   "source": [
    "## II. Data Types"
   ]
  },
  {
   "cell_type": "markdown",
   "id": "d3b59454",
   "metadata": {},
   "source": [
    "### In Python, data types are used to define the type of data that a variable can hold. The most common data types in Python include:\n",
    "- Integer (whole numbers, positive or negative)\n",
    "- Float (numbers with decimal point)\n",
    "- String (sequence of characters)\n",
    "- List (collection of items, different data types possible, mutable)\n",
    "- Tuple (collections of items, different data types possible, immutable(!))\n",
    "- Set (unordered collection of unique items)\n",
    "- Dictionary (collection of key-value pairs)\n",
    "- Boolean (True or False - represents the truth or falsity of a logical statement)"
   ]
  },
  {
   "cell_type": "markdown",
   "id": "11744247",
   "metadata": {},
   "source": [
    "### Integer (whole numbers, positive or negative)"
   ]
  },
  {
   "cell_type": "code",
   "execution_count": null,
   "id": "64e99e49",
   "metadata": {},
   "outputs": [],
   "source": [
    "# positive Integer\n",
    "a = 2"
   ]
  },
  {
   "cell_type": "code",
   "execution_count": null,
   "id": "806bfe47",
   "metadata": {},
   "outputs": [],
   "source": [
    "# negative integer\n",
    "b = -5"
   ]
  },
  {
   "cell_type": "code",
   "execution_count": null,
   "id": "0edc413a",
   "metadata": {},
   "outputs": [],
   "source": [
    "# addition\n",
    "c = 2 + 2"
   ]
  },
  {
   "cell_type": "code",
   "execution_count": null,
   "id": "b1654f4f",
   "metadata": {},
   "outputs": [],
   "source": [
    "# substraction\n",
    "d = 9 - 5"
   ]
  },
  {
   "cell_type": "code",
   "execution_count": null,
   "id": "8d0a3e34",
   "metadata": {},
   "outputs": [],
   "source": [
    "# multiplication\n",
    "e = 10 * 10"
   ]
  },
  {
   "cell_type": "code",
   "execution_count": null,
   "id": "fc310e51",
   "metadata": {},
   "outputs": [],
   "source": [
    "# division (division returns a float in python 3)\n",
    "f = 200 / 10"
   ]
  },
  {
   "cell_type": "code",
   "execution_count": null,
   "id": "ecd0c0b3",
   "metadata": {},
   "outputs": [],
   "source": [
    "# modulo (remainder of division)\n",
    "g = 20 % 3"
   ]
  },
  {
   "cell_type": "code",
   "execution_count": null,
   "id": "7643ed3a",
   "metadata": {},
   "outputs": [],
   "source": [
    "# exponentiation (calculates x raised to the power of y)\n",
    "h = 2 ** 3"
   ]
  },
  {
   "cell_type": "code",
   "execution_count": null,
   "id": "ac39cd58",
   "metadata": {},
   "outputs": [],
   "source": [
    "# check data type\n",
    "print(type(a))"
   ]
  },
  {
   "cell_type": "markdown",
   "id": "a0b7d31c",
   "metadata": {},
   "source": [
    "### Float (numbers with decimal point)"
   ]
  },
  {
   "cell_type": "code",
   "execution_count": null,
   "id": "5b375325",
   "metadata": {},
   "outputs": [],
   "source": [
    "# positive Float\n",
    "a = 1.1"
   ]
  },
  {
   "cell_type": "code",
   "execution_count": null,
   "id": "25178790",
   "metadata": {},
   "outputs": [],
   "source": [
    "# negative Float\n",
    "b = -9.4 "
   ]
  },
  {
   "cell_type": "code",
   "execution_count": null,
   "id": "56b25053",
   "metadata": {},
   "outputs": [],
   "source": [
    "# check data type\n",
    "print(type(b))"
   ]
  },
  {
   "cell_type": "markdown",
   "id": "70a43824",
   "metadata": {},
   "source": [
    "### String (sequence of characters)"
   ]
  },
  {
   "cell_type": "code",
   "execution_count": null,
   "id": "7cab2165",
   "metadata": {},
   "outputs": [],
   "source": [
    "# String enclosed in single quotes\n",
    "a = 'Hey everybody'"
   ]
  },
  {
   "cell_type": "code",
   "execution_count": null,
   "id": "eb938593",
   "metadata": {},
   "outputs": [],
   "source": [
    "# String enclosed in double quotes\n",
    "b = \"Hello Buddy\""
   ]
  },
  {
   "cell_type": "code",
   "execution_count": null,
   "id": "f8d28ded",
   "metadata": {},
   "outputs": [],
   "source": [
    "# string concatenation\n",
    "c = \"Nice \"\n",
    "d = \"to meet you\"\n",
    "e = c + d"
   ]
  },
  {
   "cell_type": "code",
   "execution_count": null,
   "id": "e4d4947e",
   "metadata": {},
   "outputs": [],
   "source": [
    "# string repetition\n",
    "a = \"water\"\n",
    "a * 3"
   ]
  },
  {
   "cell_type": "code",
   "execution_count": null,
   "id": "d8783f77",
   "metadata": {},
   "outputs": [],
   "source": [
    "# string indexing (accessing individual characters)\n",
    "name = \"House\"\n",
    "name[0] # first character"
   ]
  },
  {
   "cell_type": "code",
   "execution_count": null,
   "id": "0f7c4d04",
   "metadata": {},
   "outputs": [],
   "source": [
    "name[-1] # last character"
   ]
  },
  {
   "cell_type": "code",
   "execution_count": null,
   "id": "ffe965aa",
   "metadata": {},
   "outputs": [],
   "source": [
    "name[2] # character of index #2 (third position)"
   ]
  },
  {
   "cell_type": "code",
   "execution_count": null,
   "id": "0e73180d",
   "metadata": {},
   "outputs": [],
   "source": [
    "# string slicing (extracting substrings)\n",
    "new_name = \"Hometown\"\n",
    "new_name[0:4]"
   ]
  },
  {
   "cell_type": "code",
   "execution_count": null,
   "id": "7d4696f0",
   "metadata": {},
   "outputs": [],
   "source": [
    "new_name[4:]"
   ]
  },
  {
   "cell_type": "code",
   "execution_count": null,
   "id": "8c24f8ca",
   "metadata": {},
   "outputs": [],
   "source": [
    "new_name[:2]"
   ]
  },
  {
   "cell_type": "code",
   "execution_count": null,
   "id": "d0c27781",
   "metadata": {},
   "outputs": [],
   "source": [
    "# string length\n",
    "f = \"I want to workout\"\n",
    "len(f)"
   ]
  },
  {
   "cell_type": "code",
   "execution_count": null,
   "id": "d04cfe99",
   "metadata": {},
   "outputs": [],
   "source": [
    "# Capitalize first letter\n",
    "s = \"I want to go to the gym\"\n",
    "s.capitalize()"
   ]
  },
  {
   "cell_type": "code",
   "execution_count": null,
   "id": "85a458de",
   "metadata": {},
   "outputs": [],
   "source": [
    "# Capitalize every character\n",
    "s.upper()"
   ]
  },
  {
   "cell_type": "code",
   "execution_count": null,
   "id": "0b6da12a",
   "metadata": {},
   "outputs": [],
   "source": [
    "# All lower case\n",
    "s.lower()"
   ]
  },
  {
   "cell_type": "code",
   "execution_count": null,
   "id": "c8ea6eba",
   "metadata": {},
   "outputs": [],
   "source": [
    "# Replace\n",
    "m = s.replace('gym', 'supermarket')\n",
    "m"
   ]
  },
  {
   "cell_type": "code",
   "execution_count": null,
   "id": "8e756680",
   "metadata": {},
   "outputs": [],
   "source": [
    "# count specific characters\n",
    "m.count('t')"
   ]
  },
  {
   "cell_type": "code",
   "execution_count": null,
   "id": "0aaabfeb",
   "metadata": {},
   "outputs": [],
   "source": [
    "# starts with\n",
    "m.startswith('I want')"
   ]
  },
  {
   "cell_type": "code",
   "execution_count": null,
   "id": "40912f66",
   "metadata": {},
   "outputs": [],
   "source": [
    "# find position\n",
    "m.find('a')"
   ]
  },
  {
   "cell_type": "code",
   "execution_count": null,
   "id": "2f0bc62a",
   "metadata": {},
   "outputs": [],
   "source": [
    "# split into a list\n",
    "m.split()"
   ]
  },
  {
   "cell_type": "code",
   "execution_count": null,
   "id": "208b627a",
   "metadata": {},
   "outputs": [],
   "source": [
    "# check if everything is numeric\n",
    "m.isnumeric()"
   ]
  },
  {
   "cell_type": "code",
   "execution_count": null,
   "id": "79aaeef1",
   "metadata": {},
   "outputs": [],
   "source": [
    "# string formatting using \"%\"\n",
    "name = \"alex\"\n",
    "age = 30\n",
    "\n",
    "greeting = \"My name is %s and I am %d years old.\"% (name, age)\n",
    "\n",
    "greeting"
   ]
  },
  {
   "cell_type": "code",
   "execution_count": null,
   "id": "91c5c189",
   "metadata": {},
   "outputs": [],
   "source": [
    "# string formatting using the format method\n",
    "fruit = \"watermelon\"\n",
    "price = 2.99\n",
    "info = \"The price of a {x} is ${y}\".format(x=\"fruit\",y=price)\n",
    "info"
   ]
  },
  {
   "cell_type": "code",
   "execution_count": null,
   "id": "04b919bc",
   "metadata": {},
   "outputs": [],
   "source": [
    "# string formatting using F-Strings (only in Python version 3.6+)\n",
    "fruit = \"pineapple\"\n",
    "price = 3.50\n",
    "quantity = 5\n",
    "info = f\"The price of {quantity} {fruit}s is ${price*quantity}\"\n",
    "info"
   ]
  },
  {
   "cell_type": "code",
   "execution_count": null,
   "id": "15ff5768",
   "metadata": {},
   "outputs": [],
   "source": []
  },
  {
   "cell_type": "markdown",
   "id": "53b32777",
   "metadata": {},
   "source": [
    "### List (collection of items, different data types possible, mutable)"
   ]
  },
  {
   "cell_type": "code",
   "execution_count": null,
   "id": "982ec83a",
   "metadata": {},
   "outputs": [],
   "source": [
    "# create a list\n",
    "animals = ['monkey', 'dog', 'cat', 'fish', 'chicken']"
   ]
  },
  {
   "cell_type": "code",
   "execution_count": null,
   "id": "9c5403e9",
   "metadata": {},
   "outputs": [],
   "source": [
    "# access elements - index zero - first element\n",
    "animals[0]"
   ]
  },
  {
   "cell_type": "code",
   "execution_count": null,
   "id": "5fd68811",
   "metadata": {},
   "outputs": [],
   "source": [
    "# access elements -index three - fourth element\n",
    "animals[3]"
   ]
  },
  {
   "cell_type": "code",
   "execution_count": null,
   "id": "4173a051",
   "metadata": {},
   "outputs": [],
   "source": [
    "# access elements -last element\n",
    "animals[-1]"
   ]
  },
  {
   "cell_type": "code",
   "execution_count": null,
   "id": "8e6ddfc1",
   "metadata": {},
   "outputs": [],
   "source": [
    "# add elements to a list\n",
    "animals.append('elephant')\n",
    "animals"
   ]
  },
  {
   "cell_type": "code",
   "execution_count": null,
   "id": "0ddb200a",
   "metadata": {},
   "outputs": [],
   "source": [
    "# insert elements into a list\n",
    "animals.insert(1,'frog')\n",
    "animals"
   ]
  },
  {
   "cell_type": "code",
   "execution_count": null,
   "id": "b95047a6",
   "metadata": {},
   "outputs": [],
   "source": [
    "# remove elements from a list\n",
    "animals.remove('dog')\n",
    "animals"
   ]
  },
  {
   "cell_type": "code",
   "execution_count": null,
   "id": "20c06cfa",
   "metadata": {},
   "outputs": [],
   "source": [
    "# remove from position\n",
    "animals.pop(1)\n",
    "animals"
   ]
  },
  {
   "cell_type": "code",
   "execution_count": null,
   "id": "a8ac7f06",
   "metadata": {},
   "outputs": [],
   "source": [
    "# modify elements in a list\n",
    "animals[1] = 'crocodile'\n",
    "animals"
   ]
  },
  {
   "cell_type": "code",
   "execution_count": null,
   "id": "c1e5c4a5",
   "metadata": {},
   "outputs": [],
   "source": [
    "# concatenate lists\n",
    "new_animals = ['lion', 'tiger']\n",
    "all_animals = animals + new_animals\n",
    "all_animals"
   ]
  },
  {
   "cell_type": "code",
   "execution_count": null,
   "id": "8bae5998",
   "metadata": {},
   "outputs": [],
   "source": [
    "# reverse list\n",
    "all_animals.reverse()\n",
    "all_animals"
   ]
  },
  {
   "cell_type": "code",
   "execution_count": null,
   "id": "3ade2067",
   "metadata": {},
   "outputs": [],
   "source": [
    "# get length of a list\n",
    "len(all_animals)"
   ]
  },
  {
   "cell_type": "code",
   "execution_count": null,
   "id": "d2f47a42",
   "metadata": {},
   "outputs": [],
   "source": [
    "# sort a list\n",
    "numbers = [4,2,6,1,7,7,7,12,12,90,10291]\n",
    "numbers.sort()\n",
    "numbers"
   ]
  },
  {
   "cell_type": "code",
   "execution_count": null,
   "id": "c6c78aac",
   "metadata": {},
   "outputs": [],
   "source": [
    "# clear a list\n",
    "numbers.clear()\n",
    "numbers"
   ]
  },
  {
   "cell_type": "code",
   "execution_count": null,
   "id": "2885bda2",
   "metadata": {},
   "outputs": [],
   "source": []
  },
  {
   "cell_type": "markdown",
   "id": "4069dd7d",
   "metadata": {},
   "source": [
    "### Tuple (collections of items, different data types possible, immutable(!))"
   ]
  },
  {
   "cell_type": "code",
   "execution_count": null,
   "id": "373c8574",
   "metadata": {},
   "outputs": [],
   "source": [
    "# create a tuple\n",
    "animal_tuple = ('Crocodile', 'Monkey', 'Lion')\n",
    "animal_tuple"
   ]
  },
  {
   "cell_type": "code",
   "execution_count": null,
   "id": "f4cf2a5f",
   "metadata": {},
   "outputs": [],
   "source": [
    "# access specific element of a tuple\n",
    "animal_tuple[1]"
   ]
  },
  {
   "cell_type": "code",
   "execution_count": null,
   "id": "295d675d",
   "metadata": {},
   "outputs": [],
   "source": [
    "# Modifying tuples is not possible\n",
    "animal_tuple[1] = 'Bird'"
   ]
  },
  {
   "cell_type": "code",
   "execution_count": null,
   "id": "b741a5f0",
   "metadata": {},
   "outputs": [],
   "source": [
    "# create a tuple with one value - comma after value is necessary\n",
    "my_single_tuple = ('Tiger',)\n",
    "my_single_tuple\n",
    "# type(my_single_tuple) # tuple"
   ]
  },
  {
   "cell_type": "code",
   "execution_count": null,
   "id": "c1e75b93",
   "metadata": {},
   "outputs": [],
   "source": [
    "# if we create the tuple without the comma, Python interprets the expression as a single value instead of a tuple\n",
    "my_single_tuple = ('Tiger')\n",
    "my_single_tuple\n",
    "# type(my_single_tuple) # string"
   ]
  },
  {
   "cell_type": "markdown",
   "id": "58b3130d",
   "metadata": {},
   "source": [
    "### Set (unordered collection of unique items)"
   ]
  },
  {
   "cell_type": "code",
   "execution_count": null,
   "id": "ef51e949",
   "metadata": {},
   "outputs": [],
   "source": [
    "# create a set\n",
    "my_numbers_set = {1,1,1,2,3,2,3,1}\n",
    "my_numbers_set"
   ]
  },
  {
   "cell_type": "code",
   "execution_count": null,
   "id": "6dc11016",
   "metadata": {},
   "outputs": [],
   "source": [
    "# modify set\n",
    "my_numbers_set.add(4)\n",
    "my_numbers_set"
   ]
  },
  {
   "cell_type": "code",
   "execution_count": null,
   "id": "4e917bbe",
   "metadata": {},
   "outputs": [],
   "source": [
    "# remove from set\n",
    "my_numbers_set.remove(1)\n",
    "my_numbers_set"
   ]
  },
  {
   "cell_type": "code",
   "execution_count": null,
   "id": "b0b3b05b",
   "metadata": {},
   "outputs": [],
   "source": [
    "# clear set\n",
    "my_numbers_set.clear()\n",
    "my_numbers_set"
   ]
  },
  {
   "cell_type": "code",
   "execution_count": null,
   "id": "944e6981",
   "metadata": {},
   "outputs": [],
   "source": [
    "# delete set\n",
    "del my_numbers_set\n",
    "my_numbers_set"
   ]
  },
  {
   "cell_type": "markdown",
   "id": "6168e899",
   "metadata": {},
   "source": [
    "### Dictionary (collection of key-value pairs)"
   ]
  },
  {
   "cell_type": "code",
   "execution_count": null,
   "id": "0f23c6e3",
   "metadata": {},
   "outputs": [],
   "source": [
    "# create a dictionary\n",
    "used_cars = {\"Mercedes\": 35000, \n",
    "             \"BMW\": 32000,\n",
    "             \"Honda\": 22000\n",
    "            } "
   ]
  },
  {
   "cell_type": "code",
   "execution_count": null,
   "id": "72341fa1",
   "metadata": {},
   "outputs": [],
   "source": [
    "# access a value by key\n",
    "used_cars[\"Mercedes\"]"
   ]
  },
  {
   "cell_type": "code",
   "execution_count": null,
   "id": "d37b41b3",
   "metadata": {},
   "outputs": [],
   "source": [
    "# add a new key-value pair\n",
    "used_cars[\"Toyota\"] = 19000\n",
    "used_cars"
   ]
  },
  {
   "cell_type": "code",
   "execution_count": null,
   "id": "18d4ac4a",
   "metadata": {},
   "outputs": [],
   "source": [
    "# modify an existing value\n",
    "used_cars[\"Mercedes\"] = 40000\n",
    "used_cars"
   ]
  },
  {
   "cell_type": "code",
   "execution_count": null,
   "id": "d06e8864",
   "metadata": {},
   "outputs": [],
   "source": [
    "# remove a key-value pair\n",
    "del used_cars[\"Honda\"]\n",
    "used_cars"
   ]
  },
  {
   "cell_type": "code",
   "execution_count": null,
   "id": "e1159f39",
   "metadata": {},
   "outputs": [],
   "source": [
    "# get a list of keys \n",
    "used_cars.keys()"
   ]
  },
  {
   "cell_type": "code",
   "execution_count": null,
   "id": "f3ea653f",
   "metadata": {},
   "outputs": [],
   "source": [
    "# get a list of values\n",
    "used_cars.values()"
   ]
  },
  {
   "cell_type": "code",
   "execution_count": null,
   "id": "a4bc321d",
   "metadata": {},
   "outputs": [],
   "source": [
    "# make a copy\n",
    "used_cars2 = used_cars.copy()\n",
    "used_cars2[\"Bugatti\"] = 250000"
   ]
  },
  {
   "cell_type": "code",
   "execution_count": null,
   "id": "7a3e54da",
   "metadata": {},
   "outputs": [],
   "source": [
    "# get lenght \n",
    "(len(used_cars))"
   ]
  },
  {
   "cell_type": "code",
   "execution_count": null,
   "id": "1c9b3373",
   "metadata": {},
   "outputs": [],
   "source": [
    "# clear\n",
    "used_cars.clear()\n",
    "used_cars"
   ]
  },
  {
   "cell_type": "code",
   "execution_count": null,
   "id": "5b414c94",
   "metadata": {},
   "outputs": [],
   "source": [
    "# create a dictionary of two lists\n",
    "fruits = [\"Apple\", \"Watermelon\", \"Cherry\", \"Mango\"]\n",
    "prices = [1.19, 3.49, 0.79, 1.7]\n",
    "\n",
    "fruit_prices = dict(zip(fruits, prices))\n",
    "print(fruit_prices)"
   ]
  },
  {
   "cell_type": "code",
   "execution_count": null,
   "id": "dcc406bd",
   "metadata": {},
   "outputs": [],
   "source": [
    "# List of dictionary\n",
    "cities =[\n",
    "    {\"city\": \"Hamburg\", \"country\":\"Germany\"},\n",
    "    {\"city\": \"Amsterdam\", \"country\":\"Netherlands\"},\n",
    "    {\"city\": \"Ankara\", \"country\":\"Turkey\"}\n",
    "]\n",
    "cities"
   ]
  },
  {
   "cell_type": "code",
   "execution_count": null,
   "id": "88806d2c",
   "metadata": {},
   "outputs": [],
   "source": [
    "cities[1]['country']"
   ]
  },
  {
   "cell_type": "code",
   "execution_count": null,
   "id": "156a816b",
   "metadata": {},
   "outputs": [],
   "source": [
    "# unpack values from a dictionary\n",
    "new_dict = {\"name\" : \"Peter\", \"age\": 51, \"hobbies\":\"tennis\"}"
   ]
  },
  {
   "cell_type": "code",
   "execution_count": null,
   "id": "f6e429d6",
   "metadata": {},
   "outputs": [],
   "source": [
    "name, age, hobbies = new_dict.values()"
   ]
  },
  {
   "cell_type": "code",
   "execution_count": null,
   "id": "bbf0a229",
   "metadata": {},
   "outputs": [],
   "source": [
    "print(name)\n",
    "print(age)\n",
    "print(hobbies)"
   ]
  },
  {
   "cell_type": "markdown",
   "id": "c1969a2c",
   "metadata": {},
   "source": [
    "### Boolean (True or False - represents the truth or falsity of a logical statement)"
   ]
  },
  {
   "cell_type": "code",
   "execution_count": null,
   "id": "20db9f78",
   "metadata": {},
   "outputs": [],
   "source": [
    "# assign values to variables\n",
    "a = 2\n",
    "b = 5\n",
    "c = 7"
   ]
  },
  {
   "cell_type": "code",
   "execution_count": null,
   "id": "b9b94aae",
   "metadata": {},
   "outputs": [],
   "source": [
    "# check if \"b\" is greater than \"a\"\n",
    "b > a"
   ]
  },
  {
   "cell_type": "code",
   "execution_count": null,
   "id": "f3dc0379",
   "metadata": {},
   "outputs": [],
   "source": [
    "# check if \"b\" is greater than \"c\"\n",
    "b > c"
   ]
  },
  {
   "cell_type": "code",
   "execution_count": null,
   "id": "2bb671f6",
   "metadata": {},
   "outputs": [],
   "source": [
    "# check if \"b\" is between \"a\" and \"c\"\n",
    "c > b > a"
   ]
  },
  {
   "cell_type": "code",
   "execution_count": null,
   "id": "a1b31cfe",
   "metadata": {},
   "outputs": [],
   "source": [
    "# check if an item is present in a list\n",
    "fruits = [\"Apple\", \"Watermelon\", \"Cherry\", \"Mango\"]"
   ]
  },
  {
   "cell_type": "code",
   "execution_count": null,
   "id": "4a49d964",
   "metadata": {},
   "outputs": [],
   "source": [
    "\"Mango\" in fruits"
   ]
  },
  {
   "cell_type": "code",
   "execution_count": null,
   "id": "a7c6305c",
   "metadata": {},
   "outputs": [],
   "source": [
    "\"Peach\" in fruits"
   ]
  },
  {
   "cell_type": "code",
   "execution_count": null,
   "id": "ee109f00",
   "metadata": {},
   "outputs": [],
   "source": [
    "# check if an item is present in a dictionary\n",
    "my_dict = {\"name\":\"alex\", \"country\":\"germany\", age:30}"
   ]
  },
  {
   "cell_type": "code",
   "execution_count": null,
   "id": "b1d763df",
   "metadata": {},
   "outputs": [],
   "source": [
    "age in my_dict"
   ]
  },
  {
   "cell_type": "code",
   "execution_count": null,
   "id": "f97951d1",
   "metadata": {},
   "outputs": [],
   "source": [
    "\"hobbies\" not in my_dict"
   ]
  }
 ],
 "metadata": {
  "kernelspec": {
   "display_name": "Python 3 (ipykernel)",
   "language": "python",
   "name": "python3"
  },
  "language_info": {
   "codemirror_mode": {
    "name": "ipython",
    "version": 3
   },
   "file_extension": ".py",
   "mimetype": "text/x-python",
   "name": "python",
   "nbconvert_exporter": "python",
   "pygments_lexer": "ipython3",
   "version": "3.10.2"
  }
 },
 "nbformat": 4,
 "nbformat_minor": 5
}
