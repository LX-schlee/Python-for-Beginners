{
 "cells": [
  {
   "cell_type": "markdown",
   "id": "975f718a",
   "metadata": {},
   "source": [
    "## IV. Conditionals"
   ]
  },
  {
   "cell_type": "markdown",
   "id": "964dcb7c",
   "metadata": {},
   "source": [
    "### Conditional statements are used to execute code based on whether a certain condition is true or false"
   ]
  },
  {
   "cell_type": "markdown",
   "id": "eb66cceb",
   "metadata": {},
   "source": [
    "#### Simple If Statements"
   ]
  },
  {
   "cell_type": "code",
   "execution_count": null,
   "id": "b9f07be3",
   "metadata": {},
   "outputs": [],
   "source": [
    "# Variable Assignment\n"
   ]
  },
  {
   "cell_type": "code",
   "execution_count": null,
   "id": "c50868fe",
   "metadata": {},
   "outputs": [],
   "source": [
    "# Example 1\n"
   ]
  },
  {
   "cell_type": "code",
   "execution_count": null,
   "id": "d3687d2a",
   "metadata": {},
   "outputs": [],
   "source": [
    "# Example 2\n"
   ]
  },
  {
   "cell_type": "markdown",
   "id": "da82a3fa",
   "metadata": {},
   "source": [
    "#### If-Else Statements"
   ]
  },
  {
   "cell_type": "code",
   "execution_count": null,
   "id": "0bffd1e6",
   "metadata": {},
   "outputs": [],
   "source": [
    "# Variable Assignment\n"
   ]
  },
  {
   "cell_type": "code",
   "execution_count": null,
   "id": "b98bd1c1",
   "metadata": {},
   "outputs": [],
   "source": [
    "# Example 1\n"
   ]
  },
  {
   "cell_type": "code",
   "execution_count": null,
   "id": "99da69f0",
   "metadata": {},
   "outputs": [],
   "source": [
    "# Example 2\n"
   ]
  },
  {
   "cell_type": "code",
   "execution_count": null,
   "id": "207065bf",
   "metadata": {},
   "outputs": [],
   "source": [
    "# Example 3\n"
   ]
  },
  {
   "cell_type": "markdown",
   "id": "fd6d8df6",
   "metadata": {},
   "source": [
    "#### If-Elif-Else Statement"
   ]
  },
  {
   "cell_type": "code",
   "execution_count": null,
   "id": "3f0cf9cf",
   "metadata": {},
   "outputs": [],
   "source": [
    "# Variable Assignment\n"
   ]
  },
  {
   "cell_type": "code",
   "execution_count": null,
   "id": "27201aee",
   "metadata": {},
   "outputs": [],
   "source": [
    "# Example 1\n"
   ]
  },
  {
   "cell_type": "code",
   "execution_count": null,
   "id": "ee264211",
   "metadata": {},
   "outputs": [],
   "source": [
    "# Example 2\n"
   ]
  },
  {
   "cell_type": "markdown",
   "id": "76c64880",
   "metadata": {},
   "source": [
    "#### Nested If Statements"
   ]
  },
  {
   "cell_type": "code",
   "execution_count": null,
   "id": "2b00571b",
   "metadata": {},
   "outputs": [],
   "source": [
    "# Variable Assignment\n"
   ]
  },
  {
   "cell_type": "code",
   "execution_count": null,
   "id": "c63b654f",
   "metadata": {},
   "outputs": [],
   "source": []
  },
  {
   "cell_type": "code",
   "execution_count": null,
   "id": "b49d676b",
   "metadata": {},
   "outputs": [],
   "source": []
  }
 ],
 "metadata": {
  "kernelspec": {
   "display_name": "Python 3 (ipykernel)",
   "language": "python",
   "name": "python3"
  },
  "language_info": {
   "codemirror_mode": {
    "name": "ipython",
    "version": 3
   },
   "file_extension": ".py",
   "mimetype": "text/x-python",
   "name": "python",
   "nbconvert_exporter": "python",
   "pygments_lexer": "ipython3",
   "version": "3.10.2"
  }
 },
 "nbformat": 4,
 "nbformat_minor": 5
}
