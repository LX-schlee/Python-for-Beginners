{
 "cells": [
  {
   "cell_type": "markdown",
   "id": "ff7b84ee",
   "metadata": {},
   "source": [
    "## Range Function"
   ]
  },
  {
   "cell_type": "markdown",
   "id": "2bca5ab9",
   "metadata": {},
   "source": [
    "The range() function is a build in function that generaters a sequence of numbers. You can use it in loops but also in other situations when you have to iterate over a sequence of numbers."
   ]
  },
  {
   "cell_type": "markdown",
   "id": "f1123870",
   "metadata": {},
   "source": [
    "#### Generate a sequence of numbers from 0 to 9 (without a starting number - shorthand notation)"
   ]
  },
  {
   "cell_type": "code",
   "execution_count": 2,
   "id": "019f74de",
   "metadata": {},
   "outputs": [
    {
     "data": {
      "text/plain": [
       "range(0, 10)"
      ]
     },
     "execution_count": 2,
     "metadata": {},
     "output_type": "execute_result"
    }
   ],
   "source": [
    "range(10)"
   ]
  },
  {
   "cell_type": "code",
   "execution_count": 3,
   "id": "76933a2a",
   "metadata": {},
   "outputs": [
    {
     "name": "stdout",
     "output_type": "stream",
     "text": [
      "0\n",
      "1\n",
      "2\n",
      "3\n",
      "4\n",
      "5\n",
      "6\n",
      "7\n",
      "8\n",
      "9\n"
     ]
    }
   ],
   "source": [
    "numbers = range(10)\n",
    "\n",
    "for num in numbers:\n",
    "    print(num)"
   ]
  },
  {
   "cell_type": "markdown",
   "id": "484a5379",
   "metadata": {},
   "source": [
    "#### generate a sequence of numbers from 5 to 14 (with a starting number)"
   ]
  },
  {
   "cell_type": "code",
   "execution_count": 4,
   "id": "fcb6ba5f",
   "metadata": {},
   "outputs": [
    {
     "name": "stdout",
     "output_type": "stream",
     "text": [
      "5\n",
      "6\n",
      "7\n",
      "8\n",
      "9\n",
      "10\n",
      "11\n",
      "12\n",
      "13\n",
      "14\n"
     ]
    }
   ],
   "source": [
    "numbers = range(5,15)\n",
    "\n",
    "for num in numbers:\n",
    "    print(num)"
   ]
  },
  {
   "cell_type": "markdown",
   "id": "adc0f84b",
   "metadata": {},
   "source": [
    "#### generate a sequence of numbers from 0 to 10, using a step number (even numbers)"
   ]
  },
  {
   "cell_type": "code",
   "execution_count": 5,
   "id": "447394d0",
   "metadata": {},
   "outputs": [
    {
     "name": "stdout",
     "output_type": "stream",
     "text": [
      "0\n",
      "2\n",
      "4\n",
      "6\n",
      "8\n",
      "10\n"
     ]
    }
   ],
   "source": [
    "for i in range(0,11,2):\n",
    "    print(i)"
   ]
  },
  {
   "cell_type": "markdown",
   "id": "8cc828da",
   "metadata": {},
   "source": [
    "#### generate a sequence of numbers from 20 to 30, using the step number \"3\" and store the results in a list"
   ]
  },
  {
   "cell_type": "code",
   "execution_count": 13,
   "id": "6b0842c2",
   "metadata": {},
   "outputs": [
    {
     "name": "stdout",
     "output_type": "stream",
     "text": [
      "[20, 23, 26, 29]\n"
     ]
    }
   ],
   "source": [
    "new_numbers_list = list(range(20, 31, 3))\n",
    "\n",
    "print(new_numbers_list)"
   ]
  },
  {
   "cell_type": "code",
   "execution_count": null,
   "id": "ac02b06c",
   "metadata": {},
   "outputs": [],
   "source": []
  }
 ],
 "metadata": {
  "kernelspec": {
   "display_name": "Python 3 (ipykernel)",
   "language": "python",
   "name": "python3"
  },
  "language_info": {
   "codemirror_mode": {
    "name": "ipython",
    "version": 3
   },
   "file_extension": ".py",
   "mimetype": "text/x-python",
   "name": "python",
   "nbconvert_exporter": "python",
   "pygments_lexer": "ipython3",
   "version": "3.10.2"
  }
 },
 "nbformat": 4,
 "nbformat_minor": 5
}
